{
 "cells": [
  {
   "cell_type": "code",
   "execution_count": 432,
   "metadata": {},
   "outputs": [],
   "source": [
    "import numpy as np\n",
    "import pandas as pd\n",
    "from scipy.stats import iqr\n",
    "from sklearn.neural_network import MLPClassifier\n",
    "from keras.layers import Input,LSTM,Embedding,Dense,Dropout,Activation\n",
    "from keras.models import Model,Sequential\n",
    "import matplotlib.pyplot as plt\n",
    "%matplotlib inline\n",
    "from sklearn.model_selection import train_test_split\n",
    "from keras import backend as K"
   ]
  },
  {
   "cell_type": "markdown",
   "metadata": {},
   "source": [
    "### Data Genertion"
   ]
  },
  {
   "cell_type": "code",
   "execution_count": 285,
   "metadata": {},
   "outputs": [],
   "source": [
    "r_x = 3 #Number of features\n",
    "r_e = 1 #Error\n",
    "r_xe = r_x+r_e #Total Features + Error\n",
    "r_z = (10,8) #Neurons in layers for actual neural network\n",
    "r_ez = (10,10) #Estimated\n",
    "r_y = 3 #3 output labels\n",
    "n = 10000"
   ]
  },
  {
   "cell_type": "code",
   "execution_count": 286,
   "metadata": {},
   "outputs": [],
   "source": [
    "choose = lambda x,y: int(np.product(np.arange(x,x-y,-1))/np.product(np.arange(1,y+1)))\n",
    "bind = lambda *x: np.hstack(x) \n",
    "relu = lambda x: np.maximum(x,0)\n",
    "softmax = lambda x: np.divide(np.exp(x),np.exp(x).sum(1).reshape(-1,1))"
   ]
  },
  {
   "cell_type": "markdown",
   "metadata": {},
   "source": [
    "### xe"
   ]
  },
  {
   "cell_type": "code",
   "execution_count": 287,
   "metadata": {},
   "outputs": [
    {
     "data": {
      "text/plain": [
       "(10000, 4)"
      ]
     },
     "execution_count": 287,
     "metadata": {},
     "output_type": "execute_result"
    }
   ],
   "source": [
    "xe = np.random.normal(size=(n,r_xe)) # 10000x4 feature matrix, 4 features\n",
    "xe.shape"
   ]
  },
  {
   "cell_type": "code",
   "execution_count": 288,
   "metadata": {},
   "outputs": [
    {
     "data": {
      "text/plain": [
       "array([[-0.45668261, -0.21703679,  0.48942661,  0.85064359],\n",
       "       [-0.94345834, -1.04551665,  1.44018742, -0.15155096],\n",
       "       [-0.2816422 , -0.87223675,  0.7819262 ,  0.60334051],\n",
       "       ...,\n",
       "       [ 0.24879436,  1.32912337,  0.52477422, -0.93833559],\n",
       "       [ 1.02895715,  1.38445413,  1.74182906, -0.60333744],\n",
       "       [-1.13444152, -0.2818362 ,  0.56233903, -0.35400789]])"
      ]
     },
     "execution_count": 288,
     "metadata": {},
     "output_type": "execute_result"
    }
   ],
   "source": [
    "xe"
   ]
  },
  {
   "cell_type": "markdown",
   "metadata": {},
   "source": [
    "### w"
   ]
  },
  {
   "cell_type": "code",
   "execution_count": 289,
   "metadata": {},
   "outputs": [
    {
     "data": {
      "text/plain": [
       "array([[1., 1.]])"
      ]
     },
     "execution_count": 289,
     "metadata": {},
     "output_type": "execute_result"
    }
   ],
   "source": [
    "w = np.ones((1,2))\n",
    "w"
   ]
  },
  {
   "cell_type": "code",
   "execution_count": 290,
   "metadata": {},
   "outputs": [
    {
     "data": {
      "text/plain": [
       "array([[1., 1., 0., 0.],\n",
       "       [1., 0., 1., 0.],\n",
       "       [1., 0., 0., 1.],\n",
       "       [0., 1., 1., 0.],\n",
       "       [0., 1., 0., 1.],\n",
       "       [0., 0., 1., 1.]])"
      ]
     },
     "execution_count": 290,
     "metadata": {},
     "output_type": "execute_result"
    }
   ],
   "source": [
    "for i in range(2,r_xe):\n",
    "    w = bind(bind(np.ones((i,1)),np.eye(i)).T,\\\n",
    "             bind(np.zeros((w.shape[0],1)),w).T).T\n",
    "w"
   ]
  },
  {
   "cell_type": "code",
   "execution_count": 291,
   "metadata": {},
   "outputs": [
    {
     "data": {
      "text/plain": [
       "array([[1., 1., 0., 0.],\n",
       "       [1., 0., 1., 0.],\n",
       "       [0., 0., 0., 0.],\n",
       "       [0., 1., 1., 0.],\n",
       "       [0., 0., 0., 0.],\n",
       "       [0., 0., 0., 0.]])"
      ]
     },
     "execution_count": 291,
     "metadata": {},
     "output_type": "execute_result"
    }
   ],
   "source": [
    "for i in range(w.shape[0]): #All rows with last element 1 are updated to whole row being 0\n",
    "    if w[i,-r_e:].sum() != 0 and w[i,:r_x].sum() != 0: #Sum of last el and first 3 els spearately\n",
    "        w[i,:] = 0\n",
    "w"
   ]
  },
  {
   "cell_type": "markdown",
   "metadata": {},
   "source": [
    "### z"
   ]
  },
  {
   "cell_type": "code",
   "execution_count": 292,
   "metadata": {},
   "outputs": [],
   "source": [
    "z = np.random.normal(size=(n,choose(r_xe,2))) # 1000 x 6 matrix"
   ]
  },
  {
   "cell_type": "code",
   "execution_count": 293,
   "metadata": {},
   "outputs": [
    {
     "data": {
      "text/plain": [
       "array([[-2.13237132,  0.36593609, -1.59203337,  0.87512652,  0.16608796,\n",
       "         0.73692542],\n",
       "       [-0.57439561, -0.2288291 , -0.22282841,  1.49774058,  0.22444343,\n",
       "        -1.03593993],\n",
       "       [ 0.21720855, -0.551104  ,  0.6850578 , -0.11678826,  0.61008161,\n",
       "         1.15344902],\n",
       "       ...,\n",
       "       [ 0.59724505,  1.15591501,  0.40412344,  0.23175334,  0.05658648,\n",
       "         1.22541528],\n",
       "       [-1.74747025,  2.12358772, -1.15974859,  1.06932809,  0.1936857 ,\n",
       "        -0.02469766],\n",
       "       [ 0.67476826, -0.72839106,  0.5834144 , -0.60311529,  0.28665373,\n",
       "        -0.30588218]])"
      ]
     },
     "execution_count": 293,
     "metadata": {},
     "output_type": "execute_result"
    }
   ],
   "source": [
    "z"
   ]
  },
  {
   "cell_type": "markdown",
   "metadata": {},
   "source": [
    "### z@w"
   ]
  },
  {
   "cell_type": "code",
   "execution_count": 294,
   "metadata": {},
   "outputs": [
    {
     "name": "stdout",
     "output_type": "stream",
     "text": [
      "z = [[-2.13237132  0.36593609 -1.59203337  0.87512652  0.16608796  0.73692542]\n",
      " [-0.57439561 -0.2288291  -0.22282841  1.49774058  0.22444343 -1.03593993]\n",
      " [ 0.21720855 -0.551104    0.6850578  -0.11678826  0.61008161  1.15344902]\n",
      " ...\n",
      " [ 0.59724505  1.15591501  0.40412344  0.23175334  0.05658648  1.22541528]\n",
      " [-1.74747025  2.12358772 -1.15974859  1.06932809  0.1936857  -0.02469766]\n",
      " [ 0.67476826 -0.72839106  0.5834144  -0.60311529  0.28665373 -0.30588218]]\n",
      "\n",
      "w = [[1. 1. 0. 0.]\n",
      " [1. 0. 1. 0.]\n",
      " [0. 0. 0. 0.]\n",
      " [0. 1. 1. 0.]\n",
      " [0. 0. 0. 0.]\n",
      " [0. 0. 0. 0.]]\n",
      "\n",
      "[[-1.76643523 -1.2572448   1.24106262  0.        ]\n",
      " [-0.80322472  0.92334497  1.26891148  0.        ]\n",
      " [-0.33389545  0.10042028 -0.66789226  0.        ]\n",
      " ...\n",
      " [ 1.75316006  0.82899839  1.38766835  0.        ]\n",
      " [ 0.37611747 -0.67814216  3.19291581  0.        ]\n",
      " [-0.05362281  0.07165297 -1.33150635  0.        ]]\n",
      "(10000, 4)\n"
     ]
    }
   ],
   "source": [
    "print('z = {0}\\n'.format(z)) # 10000 x 6\n",
    "print('w = {0}\\n'.format(w)) # 6 x 4\n",
    "print(z@w) # 10000 x 4, error\n",
    "print((z@w).shape)"
   ]
  },
  {
   "cell_type": "markdown",
   "metadata": {},
   "source": [
    "### Feature Sapce"
   ]
  },
  {
   "cell_type": "code",
   "execution_count": 295,
   "metadata": {},
   "outputs": [],
   "source": [
    "xe = xe + z@w #Feature space with error"
   ]
  },
  {
   "cell_type": "markdown",
   "metadata": {},
   "source": [
    "### Neural Net"
   ]
  },
  {
   "cell_type": "code",
   "execution_count": 296,
   "metadata": {},
   "outputs": [
    {
     "data": {
      "text/plain": [
       "(array([0, 1, 2], dtype=int64), array([1663, 1368, 6969], dtype=int64))"
      ]
     },
     "execution_count": 296,
     "metadata": {},
     "output_type": "execute_result"
    }
   ],
   "source": [
    "while True:\n",
    "    wmat = [] #Weights matrix for all neurons of all layers\n",
    "    layers = [] #All layers in the neural net\n",
    "    last = xe #Last layer reference\n",
    "    for i in range(len(r_z)): #r_z has all the layers and r_z[i] has value of number of neurons the layers has\n",
    "        #Dense layers\n",
    "        w_tmp = np.random.uniform(size=(last.shape[1]+1,r_z[i]))*3-1 #weight matrix for current layer\n",
    "        last = relu(bind(ones,last)@w_tmp) #adding intercept neuron and finding the output for propagation\n",
    "        wmat += [w_tmp] #adding all the neuron weights as arrays\n",
    "        layers += [last] #last layer\n",
    "    w_tmp = np.random.uniform(size=(last.shape[1]+1,r_y))*3-1 #final layer\n",
    "    last = relu(bind(ones,last)@w_tmp) #relu\n",
    "    wmat += [w_tmp] #adding wtemp wghts\n",
    "    layers += [last] #adding last layer\n",
    "    y = softmax(last).argmax(axis=1) #activation function for labels\n",
    "    (values,counts) = np.unique(y,return_counts=True) #count of values for each label\n",
    "    if values.shape[0] == 3 and counts.min()>0.1*n: break #if all labels have minimum 10% values then break else keep on doing\n",
    "np.unique(y,return_counts=True)"
   ]
  },
  {
   "cell_type": "markdown",
   "metadata": {},
   "source": [
    "### Predictions on training data"
   ]
  },
  {
   "cell_type": "code",
   "execution_count": 297,
   "metadata": {},
   "outputs": [],
   "source": [
    "def mypred(x):\n",
    "    last = x.copy()\n",
    "    ones = np.ones((x.shape[0],1)) #Feature with all values 1\n",
    "    for i in range(len(wmat)):\n",
    "        w_tmp = wmat[i]\n",
    "        last = relu(bind(ones,last)@w_tmp)\n",
    "    return softmax(last)"
   ]
  },
  {
   "cell_type": "code",
   "execution_count": 298,
   "metadata": {
    "scrolled": true
   },
   "outputs": [
    {
     "data": {
      "text/plain": [
       "array([[0.22172367, 0.52253235, 0.25574398],\n",
       "       [0.21430996, 0.56454211, 0.22114792],\n",
       "       [0.21194875, 0.21194757, 0.57610368],\n",
       "       ...,\n",
       "       [0.21195572, 0.21199463, 0.57604964],\n",
       "       [0.21194156, 0.57611688, 0.21194156],\n",
       "       [0.24804831, 0.22028099, 0.5316707 ]])"
      ]
     },
     "execution_count": 298,
     "metadata": {},
     "output_type": "execute_result"
    }
   ],
   "source": [
    "softmax(mypred(bind(xe[:,:r_x],np.zeros((n,1)))))"
   ]
  },
  {
   "cell_type": "code",
   "execution_count": 299,
   "metadata": {},
   "outputs": [],
   "source": [
    "predictions=softmax(mypred(bind(xe[:,:r_x],np.zeros((n,1))))).argmax(axis=1)"
   ]
  },
  {
   "cell_type": "markdown",
   "metadata": {},
   "source": [
    "### Training accuracy"
   ]
  },
  {
   "cell_type": "code",
   "execution_count": 300,
   "metadata": {},
   "outputs": [
    {
     "name": "stdout",
     "output_type": "stream",
     "text": [
      "0.8044\n"
     ]
    }
   ],
   "source": [
    "cor = 0\n",
    "for i in range(len(predictions)):\n",
    "    if predictions[i]==y[i]:\n",
    "        cor+=1\n",
    "print(cor/len(predictions))"
   ]
  },
  {
   "cell_type": "markdown",
   "metadata": {},
   "source": [
    "### Gradients"
   ]
  },
  {
   "cell_type": "code",
   "execution_count": 301,
   "metadata": {},
   "outputs": [],
   "source": [
    "dx = iqr(xe,axis=0)/10000 #For each feature array"
   ]
  },
  {
   "cell_type": "code",
   "execution_count": 302,
   "metadata": {},
   "outputs": [
    {
     "data": {
      "text/plain": [
       "array([0.00023484, 0.00023315, 0.00023426, 0.00013385])"
      ]
     },
     "execution_count": 302,
     "metadata": {},
     "output_type": "execute_result"
    }
   ],
   "source": [
    "dx"
   ]
  },
  {
   "cell_type": "markdown",
   "metadata": {},
   "source": [
    "#### Gradient of NN"
   ]
  },
  {
   "cell_type": "code",
   "execution_count": 539,
   "metadata": {},
   "outputs": [],
   "source": [
    "def gradient2(model):\n",
    "    x=trainX\n",
    "    dydx = []\n",
    "    for i in range(r_x): \n",
    "        x_tmp = x.copy()\n",
    "        x_tmp[:,i] += dx[i]\n",
    "        y0 = np.array(layer_out(x,model))\n",
    "        y0 = y0[0]\n",
    "        y1 = np.array(layer_out(x_tmp,model))\n",
    "        y1 = y1[0]\n",
    "        y0 /= y0.max(axis=1).reshape(-1,1)\n",
    "        y1 /= y1.max(axis=1).reshape(-1,1)\n",
    "        dy = y1-y0\n",
    "        dydx += [(dy/dx[i]).mean(axis=0)]\n",
    "    dydx = np.array(dydx)\n",
    "    return dydx"
   ]
  },
  {
   "cell_type": "code",
   "execution_count": 540,
   "metadata": {},
   "outputs": [],
   "source": [
    "def layer_out(df,model):\n",
    "    inp = model.input\n",
    "    outp = [layer.output for layer in model.layers]\n",
    "    functors = [K.function([inp, K.learning_phase()], [out]) for out in outp]\n",
    "    layer_outs = [func([df,1]) for func in functors]\n",
    "    return layer_outs[-2]"
   ]
  },
  {
   "cell_type": "markdown",
   "metadata": {},
   "source": [
    "### Train test split"
   ]
  },
  {
   "cell_type": "code",
   "execution_count": 373,
   "metadata": {},
   "outputs": [],
   "source": [
    "trainX,valX,trainY,valY = train_test_split(xe,y,test_size=0.2)"
   ]
  },
  {
   "cell_type": "markdown",
   "metadata": {},
   "source": [
    "### TF NN"
   ]
  },
  {
   "cell_type": "code",
   "execution_count": 476,
   "metadata": {
    "scrolled": true
   },
   "outputs": [
    {
     "name": "stdout",
     "output_type": "stream",
     "text": [
      "Model: \"sequential_16\"\n",
      "_________________________________________________________________\n",
      "Layer (type)                 Output Shape              Param #   \n",
      "=================================================================\n",
      "dense_61 (Dense)             (None, 10)                50        \n",
      "_________________________________________________________________\n",
      "dense_62 (Dense)             (None, 8)                 88        \n",
      "_________________________________________________________________\n",
      "dense_63 (Dense)             (None, 3)                 27        \n",
      "_________________________________________________________________\n",
      "dense_64 (Dense)             (None, 1)                 4         \n",
      "=================================================================\n",
      "Total params: 169\n",
      "Trainable params: 169\n",
      "Non-trainable params: 0\n",
      "_________________________________________________________________\n"
     ]
    }
   ],
   "source": [
    "clf1 = Sequential()\n",
    "clf1.add(Dense(10,input_shape=(4,)))\n",
    "clf1.add(Dense(8,input_shape=(10,),activation='relu'))\n",
    "clf1.add(Dense(3,input_shape=(8,),activation='softmax'))\n",
    "clf1.add(Dense(1))\n",
    "clf1.compile(optimizer='adam',loss='mse',metrics=['accuracy'])\n",
    "clf1.summary()"
   ]
  },
  {
   "cell_type": "code",
   "execution_count": 477,
   "metadata": {
    "scrolled": true
   },
   "outputs": [
    {
     "name": "stdout",
     "output_type": "stream",
     "text": [
      "Model: \"sequential_17\"\n",
      "_________________________________________________________________\n",
      "Layer (type)                 Output Shape              Param #   \n",
      "=================================================================\n",
      "dense_65 (Dense)             (None, 10)                50        \n",
      "_________________________________________________________________\n",
      "dense_66 (Dense)             (None, 10)                110       \n",
      "_________________________________________________________________\n",
      "dense_67 (Dense)             (None, 8)                 88        \n",
      "_________________________________________________________________\n",
      "dense_68 (Dense)             (None, 3)                 27        \n",
      "_________________________________________________________________\n",
      "dense_69 (Dense)             (None, 1)                 4         \n",
      "=================================================================\n",
      "Total params: 279\n",
      "Trainable params: 279\n",
      "Non-trainable params: 0\n",
      "_________________________________________________________________\n"
     ]
    }
   ],
   "source": [
    "clf2 = Sequential()\n",
    "clf2.add(Dense(10,input_shape=(4,)))\n",
    "clf2.add(Dense(10,input_shape=(10,),activation='relu'))\n",
    "clf2.add(Dense(8,input_shape=(10,),activation='relu'))\n",
    "clf2.add(Dense(3,input_shape=(8,),activation='softmax'))\n",
    "clf2.add(Dense(1))\n",
    "clf2.compile(optimizer='adam',loss='mse',metrics=['accuracy'])\n",
    "clf2.summary()"
   ]
  },
  {
   "cell_type": "code",
   "execution_count": 478,
   "metadata": {
    "scrolled": true
   },
   "outputs": [
    {
     "name": "stdout",
     "output_type": "stream",
     "text": [
      "Model: \"sequential_18\"\n",
      "_________________________________________________________________\n",
      "Layer (type)                 Output Shape              Param #   \n",
      "=================================================================\n",
      "dense_70 (Dense)             (None, 10)                50        \n",
      "_________________________________________________________________\n",
      "dense_71 (Dense)             (None, 10)                110       \n",
      "_________________________________________________________________\n",
      "dense_72 (Dense)             (None, 8)                 88        \n",
      "_________________________________________________________________\n",
      "dense_73 (Dense)             (None, 8)                 72        \n",
      "_________________________________________________________________\n",
      "dense_74 (Dense)             (None, 3)                 27        \n",
      "_________________________________________________________________\n",
      "dense_75 (Dense)             (None, 1)                 4         \n",
      "=================================================================\n",
      "Total params: 351\n",
      "Trainable params: 351\n",
      "Non-trainable params: 0\n",
      "_________________________________________________________________\n"
     ]
    }
   ],
   "source": [
    "clf3 = Sequential()\n",
    "clf3.add(Dense(10,input_shape=(4,)))\n",
    "clf3.add(Dense(10,input_shape=(10,)))\n",
    "clf3.add(Dense(8,input_shape=(10,)))\n",
    "clf3.add(Dense(8,input_shape=(8,),activation='relu'))\n",
    "clf3.add(Dense(3,input_shape=(8,),activation='softmax'))\n",
    "clf3.add(Dense(1))\n",
    "clf3.compile(optimizer='adam',loss='mse',metrics=['accuracy'])\n",
    "clf3.summary()"
   ]
  },
  {
   "cell_type": "markdown",
   "metadata": {},
   "source": [
    "### Training"
   ]
  },
  {
   "cell_type": "code",
   "execution_count": 479,
   "metadata": {},
   "outputs": [],
   "source": [
    "clf = [clf1,clf2,clf3]"
   ]
  },
  {
   "cell_type": "code",
   "execution_count": 543,
   "metadata": {},
   "outputs": [],
   "source": [
    "def train(clf,trainX,trainY,valX,valY):\n",
    "    models = []\n",
    "    for classifier in clf:\n",
    "        model = classifier.fit(trainX,trainY,epochs=100)\n",
    "        models += [model]\n",
    "        grad = gradient2(classifier)\n",
    "        print(grad)\n",
    "        predictions = classifier.predict(valX)\n",
    "        predictions = [int(predictions[i]) for i in range(len(predictions))]\n",
    "        accuracy = np.array(predictions==valY).sum()/len(valY)\n",
    "        print(accuracy)\n",
    "    return models"
   ]
  },
  {
   "cell_type": "code",
   "execution_count": 544,
   "metadata": {
    "scrolled": false
   },
   "outputs": [
    {
     "name": "stdout",
     "output_type": "stream",
     "text": [
      "Epoch 1/100\n",
      "8000/8000 [==============================] - 0s 57us/step - loss: 0.1386 - accuracy: 0.8364\n",
      "Epoch 2/100\n",
      "8000/8000 [==============================] - 1s 114us/step - loss: 0.1381 - accuracy: 0.8359\n",
      "Epoch 3/100\n",
      "8000/8000 [==============================] - 1s 122us/step - loss: 0.1382 - accuracy: 0.8349\n",
      "Epoch 4/100\n",
      "8000/8000 [==============================] - 1s 126us/step - loss: 0.1376 - accuracy: 0.8364\n",
      "Epoch 5/100\n",
      "8000/8000 [==============================] - 1s 112us/step - loss: 0.1376 - accuracy: 0.8353\n",
      "Epoch 6/100\n",
      "8000/8000 [==============================] - 1s 91us/step - loss: 0.1368 - accuracy: 0.8361\n",
      "Epoch 7/100\n",
      "8000/8000 [==============================] - 1s 122us/step - loss: 0.1367 - accuracy: 0.8360\n",
      "Epoch 8/100\n",
      "8000/8000 [==============================] - 1s 122us/step - loss: 0.1363 - accuracy: 0.8385\n",
      "Epoch 9/100\n",
      "8000/8000 [==============================] - 1s 123us/step - loss: 0.1353 - accuracy: 0.8395\n",
      "Epoch 10/100\n",
      "8000/8000 [==============================] - 1s 123us/step - loss: 0.1346 - accuracy: 0.8411\n",
      "Epoch 11/100\n",
      "8000/8000 [==============================] - 1s 116us/step - loss: 0.1342 - accuracy: 0.8393\n",
      "Epoch 12/100\n",
      "8000/8000 [==============================] - 1s 91us/step - loss: 0.1332 - accuracy: 0.8425\n",
      "Epoch 13/100\n",
      "8000/8000 [==============================] - 1s 119us/step - loss: 0.1314 - accuracy: 0.8444\n",
      "Epoch 14/100\n",
      "8000/8000 [==============================] - 1s 72us/step - loss: 0.1309 - accuracy: 0.8455\n",
      "Epoch 15/100\n",
      "8000/8000 [==============================] - 1s 64us/step - loss: 0.1312 - accuracy: 0.8445\n",
      "Epoch 16/100\n",
      "8000/8000 [==============================] - 1s 63us/step - loss: 0.1298 - accuracy: 0.8471\n",
      "Epoch 17/100\n",
      "8000/8000 [==============================] - 1s 64us/step - loss: 0.1300 - accuracy: 0.8455\n",
      "Epoch 18/100\n",
      "8000/8000 [==============================] - 1s 106us/step - loss: 0.1286 - accuracy: 0.8474\n",
      "Epoch 19/100\n",
      "8000/8000 [==============================] - 1s 111us/step - loss: 0.1289 - accuracy: 0.8466\n",
      "Epoch 20/100\n",
      "8000/8000 [==============================] - 1s 90us/step - loss: 0.1272 - accuracy: 0.8474\n",
      "Epoch 21/100\n",
      "8000/8000 [==============================] - 1s 124us/step - loss: 0.1247 - accuracy: 0.8506\n",
      "Epoch 22/100\n",
      "8000/8000 [==============================] - 1s 125us/step - loss: 0.1211 - accuracy: 0.8569\n",
      "Epoch 23/100\n",
      "8000/8000 [==============================] - 1s 124us/step - loss: 0.1174 - accuracy: 0.8608\n",
      "Epoch 24/100\n",
      "8000/8000 [==============================] - 1s 123us/step - loss: 0.1121 - accuracy: 0.8659\n",
      "Epoch 25/100\n",
      "8000/8000 [==============================] - 1s 110us/step - loss: 0.1032 - accuracy: 0.8878\n",
      "Epoch 26/100\n",
      "8000/8000 [==============================] - 1s 89us/step - loss: 0.0957 - accuracy: 0.8965\n",
      "Epoch 27/100\n",
      "8000/8000 [==============================] - 1s 127us/step - loss: 0.0896 - accuracy: 0.9019\n",
      "Epoch 28/100\n",
      "8000/8000 [==============================] - 1s 124us/step - loss: 0.0869 - accuracy: 0.9034\n",
      "Epoch 29/100\n",
      "8000/8000 [==============================] - 1s 124us/step - loss: 0.0832 - accuracy: 0.9057\n",
      "Epoch 30/100\n",
      "8000/8000 [==============================] - 1s 124us/step - loss: 0.0802 - accuracy: 0.9097\n",
      "Epoch 31/100\n",
      "8000/8000 [==============================] - 1s 107us/step - loss: 0.0790 - accuracy: 0.9111\n",
      "Epoch 32/100\n",
      "8000/8000 [==============================] - 1s 92us/step - loss: 0.0770 - accuracy: 0.9154\n",
      "Epoch 33/100\n",
      "8000/8000 [==============================] - 1s 125us/step - loss: 0.0754 - accuracy: 0.9153\n",
      "Epoch 34/100\n",
      "8000/8000 [==============================] - 1s 125us/step - loss: 0.0745 - accuracy: 0.9159\n",
      "Epoch 35/100\n",
      "8000/8000 [==============================] - 1s 126us/step - loss: 0.0723 - accuracy: 0.9193\n",
      "Epoch 36/100\n",
      "8000/8000 [==============================] - 1s 125us/step - loss: 0.0722 - accuracy: 0.9197\n",
      "Epoch 37/100\n",
      "8000/8000 [==============================] - 1s 103us/step - loss: 0.0710 - accuracy: 0.9216\n",
      "Epoch 38/100\n",
      "8000/8000 [==============================] - 1s 76us/step - loss: 0.0689 - accuracy: 0.9243\n",
      "Epoch 39/100\n",
      "8000/8000 [==============================] - 1s 127us/step - loss: 0.0677 - accuracy: 0.9251\n",
      "Epoch 40/100\n",
      "8000/8000 [==============================] - 1s 126us/step - loss: 0.0675 - accuracy: 0.9260\n",
      "Epoch 41/100\n",
      "8000/8000 [==============================] - 1s 125us/step - loss: 0.0659 - accuracy: 0.9270\n",
      "Epoch 42/100\n",
      "8000/8000 [==============================] - 1s 122us/step - loss: 0.0653 - accuracy: 0.9274\n",
      "Epoch 43/100\n",
      "8000/8000 [==============================] - 1s 109us/step - loss: 0.0647 - accuracy: 0.9305\n",
      "Epoch 44/100\n",
      "8000/8000 [==============================] - 1s 90us/step - loss: 0.0640 - accuracy: 0.9290\n",
      "Epoch 45/100\n",
      "8000/8000 [==============================] - 1s 130us/step - loss: 0.0641 - accuracy: 0.9308\n",
      "Epoch 46/100\n",
      "8000/8000 [==============================] - 1s 127us/step - loss: 0.0644 - accuracy: 0.9299\n",
      "Epoch 47/100\n",
      "8000/8000 [==============================] - 1s 127us/step - loss: 0.0628 - accuracy: 0.9314\n",
      "Epoch 48/100\n",
      "8000/8000 [==============================] - 1s 125us/step - loss: 0.0614 - accuracy: 0.9305\n",
      "Epoch 49/100\n",
      "8000/8000 [==============================] - 1s 103us/step - loss: 0.0618 - accuracy: 0.9315\n",
      "Epoch 50/100\n",
      "8000/8000 [==============================] - 1s 93us/step - loss: 0.0620 - accuracy: 0.9350\n",
      "Epoch 51/100\n",
      "8000/8000 [==============================] - 1s 127us/step - loss: 0.0607 - accuracy: 0.9326\n",
      "Epoch 52/100\n",
      "8000/8000 [==============================] - 1s 126us/step - loss: 0.0608 - accuracy: 0.9342\n",
      "Epoch 53/100\n",
      "8000/8000 [==============================] - 1s 124us/step - loss: 0.0603 - accuracy: 0.9344\n",
      "Epoch 54/100\n",
      "8000/8000 [==============================] - 1s 122us/step - loss: 0.0599 - accuracy: 0.9361\n",
      "Epoch 55/100\n",
      "8000/8000 [==============================] - 1s 98us/step - loss: 0.0605 - accuracy: 0.9358\n",
      "Epoch 56/100\n",
      "8000/8000 [==============================] - 1s 104us/step - loss: 0.0592 - accuracy: 0.9367\n",
      "Epoch 57/100\n",
      "8000/8000 [==============================] - 1s 124us/step - loss: 0.0601 - accuracy: 0.9362\n",
      "Epoch 58/100\n",
      "8000/8000 [==============================] - 1s 125us/step - loss: 0.0587 - accuracy: 0.9381\n",
      "Epoch 59/100\n",
      "8000/8000 [==============================] - 1s 124us/step - loss: 0.0596 - accuracy: 0.9359\n",
      "Epoch 60/100\n",
      "8000/8000 [==============================] - 1s 126us/step - loss: 0.0586 - accuracy: 0.9388\n",
      "Epoch 61/100\n",
      "8000/8000 [==============================] - 1s 91us/step - loss: 0.0593 - accuracy: 0.9370\n",
      "Epoch 62/100\n",
      "8000/8000 [==============================] - 1s 109us/step - loss: 0.0585 - accuracy: 0.9394\n",
      "Epoch 63/100\n",
      "8000/8000 [==============================] - 1s 127us/step - loss: 0.0583 - accuracy: 0.9384\n",
      "Epoch 64/100\n",
      "8000/8000 [==============================] - 1s 75us/step - loss: 0.0592 - accuracy: 0.9388\n",
      "Epoch 65/100\n",
      "8000/8000 [==============================] - 1s 107us/step - loss: 0.0582 - accuracy: 0.9388\n",
      "Epoch 66/100\n",
      "8000/8000 [==============================] - 1s 125us/step - loss: 0.0583 - accuracy: 0.9392\n",
      "Epoch 67/100\n",
      "8000/8000 [==============================] - 1s 116us/step - loss: 0.0576 - accuracy: 0.9398\n",
      "Epoch 68/100\n",
      "8000/8000 [==============================] - 1s 74us/step - loss: 0.0573 - accuracy: 0.9408\n",
      "Epoch 69/100\n",
      "8000/8000 [==============================] - 1s 118us/step - loss: 0.0579 - accuracy: 0.9380\n",
      "Epoch 70/100\n",
      "8000/8000 [==============================] - 1s 133us/step - loss: 0.0576 - accuracy: 0.9401\n",
      "Epoch 71/100\n",
      "8000/8000 [==============================] - 1s 127us/step - loss: 0.0567 - accuracy: 0.9396\n",
      "Epoch 72/100\n",
      "8000/8000 [==============================] - 1s 127us/step - loss: 0.0571 - accuracy: 0.9409\n",
      "Epoch 73/100\n",
      "8000/8000 [==============================] - 1s 113us/step - loss: 0.0572 - accuracy: 0.9394\n",
      "Epoch 74/100\n",
      "8000/8000 [==============================] - 1s 94us/step - loss: 0.0565 - accuracy: 0.9389\n",
      "Epoch 75/100\n",
      "8000/8000 [==============================] - 1s 126us/step - loss: 0.0573 - accuracy: 0.9409\n",
      "Epoch 76/100\n",
      "8000/8000 [==============================] - 1s 126us/step - loss: 0.0555 - accuracy: 0.9413\n",
      "Epoch 77/100\n",
      "8000/8000 [==============================] - 1s 125us/step - loss: 0.0561 - accuracy: 0.9421\n",
      "Epoch 78/100\n"
     ]
    },
    {
     "name": "stdout",
     "output_type": "stream",
     "text": [
      "8000/8000 [==============================] - 1s 121us/step - loss: 0.0556 - accuracy: 0.9388\n",
      "Epoch 79/100\n",
      "8000/8000 [==============================] - 1s 106us/step - loss: 0.0554 - accuracy: 0.9436\n",
      "Epoch 80/100\n",
      "8000/8000 [==============================] - 1s 92us/step - loss: 0.0560 - accuracy: 0.9405\n",
      "Epoch 81/100\n",
      "8000/8000 [==============================] - 1s 102us/step - loss: 0.0550 - accuracy: 0.9424\n",
      "Epoch 82/100\n",
      "8000/8000 [==============================] - 1s 101us/step - loss: 0.0546 - accuracy: 0.9411\n",
      "Epoch 83/100\n",
      "8000/8000 [==============================] - 1s 101us/step - loss: 0.0553 - accuracy: 0.9431\n",
      "Epoch 84/100\n",
      "8000/8000 [==============================] - 1s 104us/step - loss: 0.0547 - accuracy: 0.9438\n",
      "Epoch 85/100\n",
      "8000/8000 [==============================] - 1s 102us/step - loss: 0.0545 - accuracy: 0.9427\n",
      "Epoch 86/100\n",
      "8000/8000 [==============================] - 1s 100us/step - loss: 0.0543 - accuracy: 0.9427\n",
      "Epoch 87/100\n",
      "8000/8000 [==============================] - 1s 85us/step - loss: 0.0539 - accuracy: 0.9441 0s - loss: 0\n",
      "Epoch 88/100\n",
      "8000/8000 [==============================] - 1s 102us/step - loss: 0.0540 - accuracy: 0.9427\n",
      "Epoch 89/100\n",
      "8000/8000 [==============================] - 1s 110us/step - loss: 0.0541 - accuracy: 0.9442\n",
      "Epoch 90/100\n",
      "8000/8000 [==============================] - 1s 103us/step - loss: 0.0532 - accuracy: 0.9427\n",
      "Epoch 91/100\n",
      "8000/8000 [==============================] - 1s 102us/step - loss: 0.0528 - accuracy: 0.9438\n",
      "Epoch 92/100\n",
      "8000/8000 [==============================] - 1s 104us/step - loss: 0.0537 - accuracy: 0.9433\n",
      "Epoch 93/100\n",
      "8000/8000 [==============================] - 1s 90us/step - loss: 0.0539 - accuracy: 0.9431\n",
      "Epoch 94/100\n",
      "8000/8000 [==============================] - 1s 85us/step - loss: 0.0530 - accuracy: 0.9448\n",
      "Epoch 95/100\n",
      "8000/8000 [==============================] - 1s 101us/step - loss: 0.0523 - accuracy: 0.9445\n",
      "Epoch 96/100\n",
      "8000/8000 [==============================] - 1s 102us/step - loss: 0.0526 - accuracy: 0.9455\n",
      "Epoch 97/100\n",
      "8000/8000 [==============================] - 1s 103us/step - loss: 0.0529 - accuracy: 0.9436\n",
      "Epoch 98/100\n",
      "8000/8000 [==============================] - 1s 101us/step - loss: 0.0519 - accuracy: 0.9459\n",
      "Epoch 99/100\n",
      "8000/8000 [==============================] - 1s 101us/step - loss: 0.0516 - accuracy: 0.9439\n",
      "Epoch 100/100\n",
      "8000/8000 [==============================] - 1s 94us/step - loss: 0.0517 - accuracy: 0.9446\n",
      "[[-0.09563699 -0.01164493  0.07487111]\n",
      " [-0.00467193 -0.05367612  0.0505633 ]\n",
      " [-0.05231073  0.12567422 -0.06115025]]\n",
      "0.286\n",
      "Epoch 1/100\n",
      "8000/8000 [==============================] - 0s 58us/step - loss: 0.1691 - accuracy: 0.8106\n",
      "Epoch 2/100\n",
      "8000/8000 [==============================] - 1s 88us/step - loss: 0.1357 - accuracy: 0.8534\n",
      "Epoch 3/100\n",
      "8000/8000 [==============================] - 1s 108us/step - loss: 0.1092 - accuracy: 0.8854\n",
      "Epoch 4/100\n",
      "8000/8000 [==============================] - 1s 109us/step - loss: 0.0982 - accuracy: 0.8956\n",
      "Epoch 5/100\n",
      "8000/8000 [==============================] - 1s 108us/step - loss: 0.0951 - accuracy: 0.9014\n",
      "Epoch 6/100\n",
      "8000/8000 [==============================] - 1s 101us/step - loss: 0.0892 - accuracy: 0.9038\n",
      "Epoch 7/100\n",
      "8000/8000 [==============================] - 1s 89us/step - loss: 0.0859 - accuracy: 0.9062\n",
      "Epoch 8/100\n",
      "8000/8000 [==============================] - 1s 107us/step - loss: 0.0816 - accuracy: 0.9084\n",
      "Epoch 9/100\n",
      "8000/8000 [==============================] - 1s 107us/step - loss: 0.0782 - accuracy: 0.9131\n",
      "Epoch 10/100\n",
      "8000/8000 [==============================] - 1s 107us/step - loss: 0.0747 - accuracy: 0.9146\n",
      "Epoch 11/100\n",
      "8000/8000 [==============================] - 1s 107us/step - loss: 0.0711 - accuracy: 0.9175\n",
      "Epoch 12/100\n",
      "8000/8000 [==============================] - 1s 108us/step - loss: 0.0680 - accuracy: 0.9225\n",
      "Epoch 13/100\n",
      "8000/8000 [==============================] - 1s 85us/step - loss: 0.0666 - accuracy: 0.9240\n",
      "Epoch 14/100\n",
      "8000/8000 [==============================] - 1s 90us/step - loss: 0.0628 - accuracy: 0.9277\n",
      "Epoch 15/100\n",
      "8000/8000 [==============================] - 1s 109us/step - loss: 0.0610 - accuracy: 0.9321\n",
      "Epoch 16/100\n",
      "8000/8000 [==============================] - 1s 112us/step - loss: 0.0605 - accuracy: 0.9330\n",
      "Epoch 17/100\n",
      "8000/8000 [==============================] - 1s 114us/step - loss: 0.0593 - accuracy: 0.9356\n",
      "Epoch 18/100\n",
      "8000/8000 [==============================] - 1s 81us/step - loss: 0.0565 - accuracy: 0.9354\n",
      "Epoch 19/100\n",
      "8000/8000 [==============================] - 1s 66us/step - loss: 0.0567 - accuracy: 0.9354\n",
      "Epoch 20/100\n",
      "8000/8000 [==============================] - 1s 101us/step - loss: 0.0546 - accuracy: 0.9413\n",
      "Epoch 21/100\n",
      "8000/8000 [==============================] - 1s 87us/step - loss: 0.0537 - accuracy: 0.9420\n",
      "Epoch 22/100\n",
      "8000/8000 [==============================] - 1s 107us/step - loss: 0.0546 - accuracy: 0.9409\n",
      "Epoch 23/100\n",
      "8000/8000 [==============================] - 1s 109us/step - loss: 0.0537 - accuracy: 0.9423\n",
      "Epoch 24/100\n",
      "8000/8000 [==============================] - 1s 116us/step - loss: 0.0527 - accuracy: 0.9440\n",
      "Epoch 25/100\n",
      "8000/8000 [==============================] - 1s 77us/step - loss: 0.0521 - accuracy: 0.9442\n",
      "Epoch 26/100\n",
      "8000/8000 [==============================] - 1s 107us/step - loss: 0.0502 - accuracy: 0.9464\n",
      "Epoch 27/100\n",
      "8000/8000 [==============================] - 1s 95us/step - loss: 0.0511 - accuracy: 0.9475\n",
      "Epoch 28/100\n",
      "8000/8000 [==============================] - 1s 90us/step - loss: 0.0495 - accuracy: 0.9479\n",
      "Epoch 29/100\n",
      "8000/8000 [==============================] - 1s 108us/step - loss: 0.0486 - accuracy: 0.9477\n",
      "Epoch 30/100\n",
      "8000/8000 [==============================] - 1s 107us/step - loss: 0.0495 - accuracy: 0.9495\n",
      "Epoch 31/100\n",
      "8000/8000 [==============================] - 1s 108us/step - loss: 0.0471 - accuracy: 0.9509\n",
      "Epoch 32/100\n",
      "8000/8000 [==============================] - 1s 109us/step - loss: 0.0481 - accuracy: 0.9501\n",
      "Epoch 33/100\n",
      "8000/8000 [==============================] - 1s 108us/step - loss: 0.0483 - accuracy: 0.9500\n",
      "Epoch 34/100\n",
      "8000/8000 [==============================] - 1s 84us/step - loss: 0.0471 - accuracy: 0.9517\n",
      "Epoch 35/100\n",
      "8000/8000 [==============================] - 1s 107us/step - loss: 0.0455 - accuracy: 0.9536\n",
      "Epoch 36/100\n",
      "8000/8000 [==============================] - 1s 107us/step - loss: 0.0447 - accuracy: 0.9550\n",
      "Epoch 37/100\n",
      "8000/8000 [==============================] - 1s 107us/step - loss: 0.0451 - accuracy: 0.9541\n",
      "Epoch 38/100\n",
      "8000/8000 [==============================] - 1s 107us/step - loss: 0.0444 - accuracy: 0.9532\n",
      "Epoch 39/100\n",
      "8000/8000 [==============================] - 1s 109us/step - loss: 0.0439 - accuracy: 0.9536\n",
      "Epoch 40/100\n",
      "8000/8000 [==============================] - 1s 104us/step - loss: 0.0458 - accuracy: 0.9545\n",
      "Epoch 41/100\n",
      "8000/8000 [==============================] - 1s 71us/step - loss: 0.0451 - accuracy: 0.9563\n",
      "Epoch 42/100\n",
      "8000/8000 [==============================] - 1s 108us/step - loss: 0.0446 - accuracy: 0.9550\n",
      "Epoch 43/100\n",
      "8000/8000 [==============================] - 1s 106us/step - loss: 0.0424 - accuracy: 0.9566\n",
      "Epoch 44/100\n",
      "8000/8000 [==============================] - 1s 108us/step - loss: 0.0427 - accuracy: 0.9571\n",
      "Epoch 45/100\n",
      "8000/8000 [==============================] - 1s 106us/step - loss: 0.0415 - accuracy: 0.9579\n",
      "Epoch 46/100\n",
      "8000/8000 [==============================] - 1s 107us/step - loss: 0.0419 - accuracy: 0.9581\n",
      "Epoch 47/100\n",
      "8000/8000 [==============================] - 1s 99us/step - loss: 0.0423 - accuracy: 0.9570\n",
      "Epoch 48/100\n",
      "8000/8000 [==============================] - 1s 90us/step - loss: 0.0417 - accuracy: 0.9582\n",
      "Epoch 49/100\n",
      "8000/8000 [==============================] - 1s 107us/step - loss: 0.0416 - accuracy: 0.9582\n",
      "Epoch 50/100\n",
      "8000/8000 [==============================] - 1s 107us/step - loss: 0.0406 - accuracy: 0.9597\n",
      "Epoch 51/100\n",
      "8000/8000 [==============================] - 1s 108us/step - loss: 0.0408 - accuracy: 0.9594\n",
      "Epoch 52/100\n",
      "8000/8000 [==============================] - 1s 107us/step - loss: 0.0424 - accuracy: 0.9601\n",
      "Epoch 53/100\n",
      "8000/8000 [==============================] - 1s 107us/step - loss: 0.0406 - accuracy: 0.9610\n",
      "Epoch 54/100\n"
     ]
    },
    {
     "name": "stdout",
     "output_type": "stream",
     "text": [
      "8000/8000 [==============================] - 1s 87us/step - loss: 0.0398 - accuracy: 0.9615\n",
      "Epoch 55/100\n",
      "8000/8000 [==============================] - 1s 97us/step - loss: 0.0415 - accuracy: 0.9600\n",
      "Epoch 56/100\n",
      "8000/8000 [==============================] - 1s 105us/step - loss: 0.0407 - accuracy: 0.9603\n",
      "Epoch 57/100\n",
      "8000/8000 [==============================] - 1s 108us/step - loss: 0.0403 - accuracy: 0.9592\n",
      "Epoch 58/100\n",
      "8000/8000 [==============================] - 1s 106us/step - loss: 0.0385 - accuracy: 0.9630\n",
      "Epoch 59/100\n",
      "8000/8000 [==============================] - 1s 110us/step - loss: 0.0395 - accuracy: 0.9599\n",
      "Epoch 60/100\n",
      "8000/8000 [==============================] - 1s 113us/step - loss: 0.0377 - accuracy: 0.9625\n",
      "Epoch 61/100\n",
      "8000/8000 [==============================] - 1s 76us/step - loss: 0.0386 - accuracy: 0.9615\n",
      "Epoch 62/100\n",
      "8000/8000 [==============================] - 1s 105us/step - loss: 0.0386 - accuracy: 0.9615\n",
      "Epoch 63/100\n",
      "8000/8000 [==============================] - 1s 105us/step - loss: 0.0392 - accuracy: 0.9617\n",
      "Epoch 64/100\n",
      "8000/8000 [==============================] - 1s 104us/step - loss: 0.0382 - accuracy: 0.9613\n",
      "Epoch 65/100\n",
      "8000/8000 [==============================] - 1s 104us/step - loss: 0.0365 - accuracy: 0.9629\n",
      "Epoch 66/100\n",
      "8000/8000 [==============================] - 1s 106us/step - loss: 0.0374 - accuracy: 0.9634\n",
      "Epoch 67/100\n",
      "8000/8000 [==============================] - 1s 106us/step - loss: 0.0365 - accuracy: 0.9619\n",
      "Epoch 68/100\n",
      "8000/8000 [==============================] - 1s 82us/step - loss: 0.0368 - accuracy: 0.9645\n",
      "Epoch 69/100\n",
      "8000/8000 [==============================] - 1s 106us/step - loss: 0.0362 - accuracy: 0.9625\n",
      "Epoch 70/100\n",
      "8000/8000 [==============================] - 1s 105us/step - loss: 0.0363 - accuracy: 0.9630\n",
      "Epoch 71/100\n",
      "8000/8000 [==============================] - 1s 104us/step - loss: 0.0360 - accuracy: 0.9639\n",
      "Epoch 72/100\n",
      "8000/8000 [==============================] - 1s 104us/step - loss: 0.0368 - accuracy: 0.9649\n",
      "Epoch 73/100\n",
      "8000/8000 [==============================] - 1s 106us/step - loss: 0.0343 - accuracy: 0.9660\n",
      "Epoch 74/100\n",
      "8000/8000 [==============================] - 1s 101us/step - loss: 0.0339 - accuracy: 0.9661\n",
      "Epoch 75/100\n",
      "8000/8000 [==============================] - 1s 87us/step - loss: 0.0344 - accuracy: 0.9651\n",
      "Epoch 76/100\n",
      "8000/8000 [==============================] - 1s 106us/step - loss: 0.0351 - accuracy: 0.9640\n",
      "Epoch 77/100\n",
      "8000/8000 [==============================] - 1s 106us/step - loss: 0.0344 - accuracy: 0.9660\n",
      "Epoch 78/100\n",
      "8000/8000 [==============================] - 1s 106us/step - loss: 0.0344 - accuracy: 0.9651\n",
      "Epoch 79/100\n",
      "8000/8000 [==============================] - 1s 81us/step - loss: 0.0339 - accuracy: 0.9660\n",
      "Epoch 80/100\n",
      "8000/8000 [==============================] - 1s 110us/step - loss: 0.0338 - accuracy: 0.9669\n",
      "Epoch 81/100\n",
      "8000/8000 [==============================] - 1s 103us/step - loss: 0.0344 - accuracy: 0.9674\n",
      "Epoch 82/100\n",
      "8000/8000 [==============================] - 1s 87us/step - loss: 0.0332 - accuracy: 0.9657\n",
      "Epoch 83/100\n",
      "8000/8000 [==============================] - 1s 107us/step - loss: 0.0335 - accuracy: 0.9659\n",
      "Epoch 84/100\n",
      "8000/8000 [==============================] - 1s 107us/step - loss: 0.0334 - accuracy: 0.9660\n",
      "Epoch 85/100\n",
      "8000/8000 [==============================] - 1s 106us/step - loss: 0.0336 - accuracy: 0.9680\n",
      "Epoch 86/100\n",
      "8000/8000 [==============================] - 1s 106us/step - loss: 0.0316 - accuracy: 0.9670\n",
      "Epoch 87/100\n",
      "8000/8000 [==============================] - 1s 107us/step - loss: 0.0317 - accuracy: 0.9688\n",
      "Epoch 88/100\n",
      "8000/8000 [==============================] - 1s 85us/step - loss: 0.0317 - accuracy: 0.9680\n",
      "Epoch 89/100\n",
      "8000/8000 [==============================] - 1s 92us/step - loss: 0.0319 - accuracy: 0.9701\n",
      "Epoch 90/100\n",
      "8000/8000 [==============================] - 1s 106us/step - loss: 0.0319 - accuracy: 0.9680\n",
      "Epoch 91/100\n",
      "8000/8000 [==============================] - 1s 88us/step - loss: 0.0316 - accuracy: 0.9678\n",
      "Epoch 92/100\n",
      "8000/8000 [==============================] - 1s 92us/step - loss: 0.0314 - accuracy: 0.9700\n",
      "Epoch 93/100\n",
      "8000/8000 [==============================] - 1s 107us/step - loss: 0.0317 - accuracy: 0.9700\n",
      "Epoch 94/100\n",
      "8000/8000 [==============================] - 1s 106us/step - loss: 0.0319 - accuracy: 0.9691\n",
      "Epoch 95/100\n",
      "8000/8000 [==============================] - 1s 96us/step - loss: 0.0325 - accuracy: 0.9680\n",
      "Epoch 96/100\n",
      "8000/8000 [==============================] - 1s 90us/step - loss: 0.0300 - accuracy: 0.9696\n",
      "Epoch 97/100\n",
      "8000/8000 [==============================] - 1s 107us/step - loss: 0.0320 - accuracy: 0.9689\n",
      "Epoch 98/100\n",
      "8000/8000 [==============================] - 1s 108us/step - loss: 0.0300 - accuracy: 0.9707\n",
      "Epoch 99/100\n",
      "8000/8000 [==============================] - 1s 107us/step - loss: 0.0311 - accuracy: 0.9688\n",
      "Epoch 100/100\n",
      "8000/8000 [==============================] - 1s 107us/step - loss: 0.0314 - accuracy: 0.9704\n",
      "[[-0.07568161  0.08841064 -0.00404139]\n",
      " [-0.00232734  0.05235481 -0.04720104]\n",
      " [-0.05245216 -0.0665138   0.10939626]]\n",
      "0.909\n",
      "Epoch 1/100\n",
      "8000/8000 [==============================] - 1s 101us/step - loss: 0.4988 - accuracy: 0.2562\n",
      "Epoch 2/100\n",
      "8000/8000 [==============================] - 1s 114us/step - loss: 0.3066 - accuracy: 0.3784\n",
      "Epoch 3/100\n",
      "8000/8000 [==============================] - 1s 114us/step - loss: 0.2206 - accuracy: 0.7937\n",
      "Epoch 4/100\n",
      "8000/8000 [==============================] - 1s 115us/step - loss: 0.1850 - accuracy: 0.8080\n",
      "Epoch 5/100\n",
      "8000/8000 [==============================] - 1s 113us/step - loss: 0.1697 - accuracy: 0.8129\n",
      "Epoch 6/100\n",
      "8000/8000 [==============================] - 1s 110us/step - loss: 0.1683 - accuracy: 0.8161\n",
      "Epoch 7/100\n",
      "8000/8000 [==============================] - 1s 87us/step - loss: 0.1632 - accuracy: 0.8202\n",
      "Epoch 8/100\n",
      "8000/8000 [==============================] - 1s 115us/step - loss: 0.1599 - accuracy: 0.8210\n",
      "Epoch 9/100\n",
      "8000/8000 [==============================] - 1s 114us/step - loss: 0.1609 - accuracy: 0.8223\n",
      "Epoch 10/100\n",
      "8000/8000 [==============================] - 1s 115us/step - loss: 0.1607 - accuracy: 0.8229\n",
      "Epoch 11/100\n",
      "8000/8000 [==============================] - 1s 115us/step - loss: 0.1585 - accuracy: 0.8224\n",
      "Epoch 12/100\n",
      "8000/8000 [==============================] - 1s 119us/step - loss: 0.1569 - accuracy: 0.8254\n",
      "Epoch 13/100\n",
      "8000/8000 [==============================] - 1s 81us/step - loss: 0.1586 - accuracy: 0.8215\n",
      "Epoch 14/100\n",
      "8000/8000 [==============================] - 1s 114us/step - loss: 0.1548 - accuracy: 0.8257\n",
      "Epoch 15/100\n",
      "8000/8000 [==============================] - 1s 113us/step - loss: 0.1549 - accuracy: 0.8246\n",
      "Epoch 16/100\n",
      "8000/8000 [==============================] - 1s 113us/step - loss: 0.1536 - accuracy: 0.8244\n",
      "Epoch 17/100\n",
      "8000/8000 [==============================] - 1s 115us/step - loss: 0.1549 - accuracy: 0.8255\n",
      "Epoch 18/100\n",
      "8000/8000 [==============================] - 1s 115us/step - loss: 0.1536 - accuracy: 0.8266\n",
      "Epoch 19/100\n",
      "8000/8000 [==============================] - 1s 98us/step - loss: 0.1521 - accuracy: 0.8263\n",
      "Epoch 20/100\n",
      "8000/8000 [==============================] - 1s 98us/step - loss: 0.1526 - accuracy: 0.8257\n",
      "Epoch 21/100\n",
      "8000/8000 [==============================] - 1s 113us/step - loss: 0.1526 - accuracy: 0.8281\n",
      "Epoch 22/100\n",
      "8000/8000 [==============================] - 1s 114us/step - loss: 0.1537 - accuracy: 0.8273\n",
      "Epoch 23/100\n",
      "8000/8000 [==============================] - 1s 114us/step - loss: 0.1499 - accuracy: 0.8290\n",
      "Epoch 24/100\n",
      "8000/8000 [==============================] - 1s 113us/step - loss: 0.1510 - accuracy: 0.8294\n",
      "Epoch 25/100\n",
      "8000/8000 [==============================] - 1s 111us/step - loss: 0.1494 - accuracy: 0.8300\n",
      "Epoch 26/100\n",
      "8000/8000 [==============================] - 1s 88us/step - loss: 0.1477 - accuracy: 0.8319\n",
      "Epoch 27/100\n",
      "8000/8000 [==============================] - 1s 105us/step - loss: 0.1492 - accuracy: 0.8322\n",
      "Epoch 28/100\n",
      "8000/8000 [==============================] - 1s 115us/step - loss: 0.1489 - accuracy: 0.8326\n",
      "Epoch 29/100\n",
      "8000/8000 [==============================] - 1s 114us/step - loss: 0.1450 - accuracy: 0.8341\n",
      "Epoch 30/100\n"
     ]
    },
    {
     "name": "stdout",
     "output_type": "stream",
     "text": [
      "8000/8000 [==============================] - 1s 113us/step - loss: 0.1478 - accuracy: 0.8346\n",
      "Epoch 31/100\n",
      "8000/8000 [==============================] - 1s 112us/step - loss: 0.1463 - accuracy: 0.8339\n",
      "Epoch 32/100\n",
      "8000/8000 [==============================] - 1s 90us/step - loss: 0.1425 - accuracy: 0.8381\n",
      "Epoch 33/100\n",
      "8000/8000 [==============================] - 1s 113us/step - loss: 0.1438 - accuracy: 0.8375\n",
      "Epoch 34/100\n",
      "8000/8000 [==============================] - 1s 111us/step - loss: 0.1395 - accuracy: 0.8411\n",
      "Epoch 35/100\n",
      "8000/8000 [==============================] - 1s 112us/step - loss: 0.1407 - accuracy: 0.8446\n",
      "Epoch 36/100\n",
      "8000/8000 [==============================] - 1s 113us/step - loss: 0.1364 - accuracy: 0.8471\n",
      "Epoch 37/100\n",
      "8000/8000 [==============================] - 1s 114us/step - loss: 0.1319 - accuracy: 0.8555\n",
      "Epoch 38/100\n",
      "8000/8000 [==============================] - 1s 103us/step - loss: 0.1231 - accuracy: 0.8656\n",
      "Epoch 39/100\n",
      "8000/8000 [==============================] - 1s 94us/step - loss: 0.1060 - accuracy: 0.8866\n",
      "Epoch 40/100\n",
      "8000/8000 [==============================] - 1s 122us/step - loss: 0.0746 - accuracy: 0.9227\n",
      "Epoch 41/100\n",
      "8000/8000 [==============================] - 1s 114us/step - loss: 0.0633 - accuracy: 0.9323\n",
      "Epoch 42/100\n",
      "8000/8000 [==============================] - 1s 113us/step - loss: 0.0613 - accuracy: 0.9358\n",
      "Epoch 43/100\n",
      "8000/8000 [==============================] - 1s 113us/step - loss: 0.0613 - accuracy: 0.9348\n",
      "Epoch 44/100\n",
      "8000/8000 [==============================] - 1s 111us/step - loss: 0.0593 - accuracy: 0.9370\n",
      "Epoch 45/100\n",
      "8000/8000 [==============================] - 1s 84us/step - loss: 0.0601 - accuracy: 0.9361\n",
      "Epoch 46/100\n",
      "8000/8000 [==============================] - 1s 112us/step - loss: 0.0600 - accuracy: 0.9371\n",
      "Epoch 47/100\n",
      "8000/8000 [==============================] - 1s 112us/step - loss: 0.0593 - accuracy: 0.9379\n",
      "Epoch 48/100\n",
      "8000/8000 [==============================] - 1s 111us/step - loss: 0.0577 - accuracy: 0.9402\n",
      "Epoch 49/100\n",
      "8000/8000 [==============================] - 1s 112us/step - loss: 0.0576 - accuracy: 0.9396\n",
      "Epoch 50/100\n",
      "8000/8000 [==============================] - 1s 112us/step - loss: 0.0596 - accuracy: 0.9373\n",
      "Epoch 51/100\n",
      "8000/8000 [==============================] - 1s 98us/step - loss: 0.0570 - accuracy: 0.9419\n",
      "Epoch 52/100\n",
      "8000/8000 [==============================] - 1s 103us/step - loss: 0.0569 - accuracy: 0.9410\n",
      "Epoch 53/100\n",
      "8000/8000 [==============================] - 1s 113us/step - loss: 0.0598 - accuracy: 0.9405\n",
      "Epoch 54/100\n",
      "8000/8000 [==============================] - 1s 113us/step - loss: 0.0570 - accuracy: 0.9388\n",
      "Epoch 55/100\n",
      "8000/8000 [==============================] - 1s 115us/step - loss: 0.0571 - accuracy: 0.9401\n",
      "Epoch 56/100\n",
      "8000/8000 [==============================] - 1s 113us/step - loss: 0.0572 - accuracy: 0.9408\n",
      "Epoch 57/100\n",
      "8000/8000 [==============================] - 1s 106us/step - loss: 0.0577 - accuracy: 0.9430\n",
      "Epoch 58/100\n",
      "8000/8000 [==============================] - 1s 99us/step - loss: 0.0558 - accuracy: 0.9424\n",
      "Epoch 59/100\n",
      "8000/8000 [==============================] - 1s 117us/step - loss: 0.0573 - accuracy: 0.9411\n",
      "Epoch 60/100\n",
      "8000/8000 [==============================] - 1s 115us/step - loss: 0.0564 - accuracy: 0.9401\n",
      "Epoch 61/100\n",
      "8000/8000 [==============================] - 1s 115us/step - loss: 0.0542 - accuracy: 0.9431\n",
      "Epoch 62/100\n",
      "8000/8000 [==============================] - 1s 115us/step - loss: 0.0550 - accuracy: 0.9426\n",
      "Epoch 63/100\n",
      "8000/8000 [==============================] - 1s 118us/step - loss: 0.0558 - accuracy: 0.9435\n",
      "Epoch 64/100\n",
      "8000/8000 [==============================] - 1s 91us/step - loss: 0.0560 - accuracy: 0.9410\n",
      "Epoch 65/100\n",
      "8000/8000 [==============================] - 1s 114us/step - loss: 0.0562 - accuracy: 0.9441\n",
      "Epoch 66/100\n",
      "8000/8000 [==============================] - 1s 115us/step - loss: 0.0564 - accuracy: 0.9426\n",
      "Epoch 67/100\n",
      "8000/8000 [==============================] - 1s 115us/step - loss: 0.0550 - accuracy: 0.9448\n",
      "Epoch 68/100\n",
      "8000/8000 [==============================] - 1s 115us/step - loss: 0.0576 - accuracy: 0.9431\n",
      "Epoch 69/100\n",
      "8000/8000 [==============================] - 1s 120us/step - loss: 0.0565 - accuracy: 0.9429\n",
      "Epoch 70/100\n",
      "8000/8000 [==============================] - 1s 80us/step - loss: 0.0563 - accuracy: 0.9429\n",
      "Epoch 71/100\n",
      "8000/8000 [==============================] - 1s 114us/step - loss: 0.0547 - accuracy: 0.9440\n",
      "Epoch 72/100\n",
      "8000/8000 [==============================] - 1s 114us/step - loss: 0.0561 - accuracy: 0.9425\n",
      "Epoch 73/100\n",
      "8000/8000 [==============================] - 1s 112us/step - loss: 0.0536 - accuracy: 0.9457\n",
      "Epoch 74/100\n",
      "8000/8000 [==============================] - 1s 115us/step - loss: 0.0545 - accuracy: 0.9429\n",
      "Epoch 75/100\n",
      "8000/8000 [==============================] - 1s 114us/step - loss: 0.0558 - accuracy: 0.9442\n",
      "Epoch 76/100\n",
      "8000/8000 [==============================] - 1s 95us/step - loss: 0.0548 - accuracy: 0.9459\n",
      "Epoch 77/100\n",
      "8000/8000 [==============================] - 1s 103us/step - loss: 0.0541 - accuracy: 0.9459\n",
      "Epoch 78/100\n",
      "8000/8000 [==============================] - 1s 114us/step - loss: 0.0544 - accuracy: 0.9455\n",
      "Epoch 79/100\n",
      "8000/8000 [==============================] - 1s 113us/step - loss: 0.0555 - accuracy: 0.9464\n",
      "Epoch 80/100\n",
      "8000/8000 [==============================] - 1s 113us/step - loss: 0.0552 - accuracy: 0.9470\n",
      "Epoch 81/100\n",
      "8000/8000 [==============================] - 1s 115us/step - loss: 0.0556 - accuracy: 0.9449\n",
      "Epoch 82/100\n",
      "8000/8000 [==============================] - 1s 112us/step - loss: 0.0537 - accuracy: 0.9463\n",
      "Epoch 83/100\n",
      "8000/8000 [==============================] - 1s 91us/step - loss: 0.0546 - accuracy: 0.9452\n",
      "Epoch 84/100\n",
      "8000/8000 [==============================] - 1s 114us/step - loss: 0.0567 - accuracy: 0.9421\n",
      "Epoch 85/100\n",
      "8000/8000 [==============================] - 1s 115us/step - loss: 0.0537 - accuracy: 0.9455\n",
      "Epoch 86/100\n",
      "8000/8000 [==============================] - 1s 116us/step - loss: 0.0526 - accuracy: 0.9461\n",
      "Epoch 87/100\n",
      "8000/8000 [==============================] - 1s 114us/step - loss: 0.0535 - accuracy: 0.9455\n",
      "Epoch 88/100\n",
      "8000/8000 [==============================] - 1s 120us/step - loss: 0.0540 - accuracy: 0.9477\n",
      "Epoch 89/100\n",
      "8000/8000 [==============================] - 1s 82us/step - loss: 0.0556 - accuracy: 0.9452\n",
      "Epoch 90/100\n",
      "8000/8000 [==============================] - 1s 115us/step - loss: 0.0535 - accuracy: 0.9474\n",
      "Epoch 91/100\n",
      "8000/8000 [==============================] - 1s 114us/step - loss: 0.0527 - accuracy: 0.9467\n",
      "Epoch 92/100\n",
      "8000/8000 [==============================] - 1s 116us/step - loss: 0.0521 - accuracy: 0.9482\n",
      "Epoch 93/100\n",
      "8000/8000 [==============================] - 1s 114us/step - loss: 0.0533 - accuracy: 0.9461\n",
      "Epoch 94/100\n",
      "8000/8000 [==============================] - 1s 114us/step - loss: 0.0513 - accuracy: 0.9475\n",
      "Epoch 95/100\n",
      "8000/8000 [==============================] - 1s 91us/step - loss: 0.0515 - accuracy: 0.9479\n",
      "Epoch 96/100\n",
      "8000/8000 [==============================] - 1s 104us/step - loss: 0.0521 - accuracy: 0.9490\n",
      "Epoch 97/100\n",
      "8000/8000 [==============================] - 1s 115us/step - loss: 0.0536 - accuracy: 0.9505\n",
      "Epoch 98/100\n",
      "8000/8000 [==============================] - 1s 116us/step - loss: 0.0537 - accuracy: 0.9476\n",
      "Epoch 99/100\n",
      "8000/8000 [==============================] - 1s 115us/step - loss: 0.0533 - accuracy: 0.9452\n",
      "Epoch 100/100\n",
      "8000/8000 [==============================] - 1s 114us/step - loss: 0.0513 - accuracy: 0.9466\n",
      "[[-0.09013646  0.0698159   0.00514914]\n",
      " [-0.00746084  0.04402044 -0.0507625 ]\n",
      " [-0.03794727 -0.04659213  0.13174461]]\n",
      "0.799\n"
     ]
    }
   ],
   "source": [
    "models = train(clf,trainX,trainY,valX,valY)"
   ]
  },
  {
   "cell_type": "code",
   "execution_count": 565,
   "metadata": {},
   "outputs": [
    {
     "data": {
      "image/png": "[encoded data removed]",
      "text/plain": [
       "<Figure size 864x432 with 1 Axes>"
      ]
     },
     "metadata": {
      "needs_background": "light"
     },
     "output_type": "display_data"
    }
   ],
   "source": [
    "color = ['r','g','b']\n",
    "labels = [\"10-8-3-1\",\"10-10-8-3-1\",\"10-10-8-8-3-1\"]\n",
    "plt.figure(figsize=(12, 6))\n",
    "for i in range(len(models)):\n",
    "    plt.plot(models[i].history['loss'],c=color[i],label=labels[i])\n",
    "plt.ylabel(\"loss\")\n",
    "plt.xlabel(\"epoch\")\n",
    "leg = plt.legend()\n",
    "plt.show()"
   ]
  },
  {
   "cell_type": "code",
   "execution_count": 566,
   "metadata": {},
   "outputs": [
    {
     "data": {
      "image/png": "[encoded data removed]",
      "text/plain": [
       "<Figure size 1080x576 with 1 Axes>"
      ]
     },
     "metadata": {
      "needs_background": "light"
     },
     "output_type": "display_data"
    }
   ],
   "source": [
    "color = ['r','g','b']\n",
    "labels = [\"10-8-3-1\",\"10-10-8-3-1\",\"10-10-8-8-3-1\"]\n",
    "plt.figure(figsize=(15, 8))\n",
    "for i in range(len(models)):\n",
    "    plt.plot(models[i].history['accuracy'],c=color[i],label=labels[i])\n",
    "plt.ylabel(\"loss\")\n",
    "plt.xlabel(\"epoch\")\n",
    "leg = plt.legend()\n",
    "plt.show()"
   ]
  }
 ],
 "metadata": {
  "kernelspec": {
   "display_name": "Python 3",
   "language": "python",
   "name": "python3"
  },
  "language_info": {
   "codemirror_mode": {
    "name": "ipython",
    "version": 3
   },
   "file_extension": ".py",
   "mimetype": "text/x-python",
   "name": "python",
   "nbconvert_exporter": "python",
   "pygments_lexer": "ipython3",
   "version": "3.6.8"
  }
 },
 "nbformat": 4,
 "nbformat_minor": 4
}
