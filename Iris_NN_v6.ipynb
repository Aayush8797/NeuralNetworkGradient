{
 "cells": [
  {
   "cell_type": "markdown",
   "metadata": {
    "_cell_guid": "c222bdd2-91f3-4363-bde7-778caec66877",
    "_execution_state": "idle",
    "_uuid": "d787ba94e186ddb920b0c79011da69d15f00ce92"
   },
   "source": [
    "Iris Data Classification using a simple NN"
   ]
  },
  {
   "cell_type": "code",
   "execution_count": 63,
   "metadata": {},
   "outputs": [
    {
     "name": "stderr",
     "output_type": "stream",
     "text": [
      "WARNING: Logging before flag parsing goes to stderr.\n",
      "W1230 16:15:00.363457  8700 deprecation.py:323] From C:\\Users\\himan\\Anaconda3\\lib\\site-packages\\tensorflow_core\\python\\compat\\v2_compat.py:65: disable_resource_variables (from tensorflow.python.ops.variable_scope) is deprecated and will be removed in a future version.\n",
      "Instructions for updating:\n",
      "non-resource variables are not supported in the long term\n"
     ]
    }
   ],
   "source": [
    "import pandas as pd\n",
    "import tensorflow.compat.v1 as tf\n",
    "tf.disable_v2_behavior() \n",
    "import numpy as np\n",
    "import matplotlib.pyplot as plt\n",
    "from sklearn.preprocessing import normalize\n",
    "import os\n",
    "import tensorflow.keras as ks"
   ]
  },
  {
   "cell_type": "code",
   "execution_count": 64,
   "metadata": {
    "_cell_guid": "e369e6ae-24d2-4496-81fc-b6c7f8504f76",
    "_execution_state": "idle",
    "_uuid": "2b30fc888ddacf28b086f8cffc7b50952e3b818f"
   },
   "outputs": [],
   "source": [
    "#from subprocess import check_output\n",
    "#print(check_output([\"ls\", \"../input\"]).decode(\"utf8\"))"
   ]
  },
  {
   "cell_type": "code",
   "execution_count": 65,
   "metadata": {},
   "outputs": [
    {
     "data": {
      "text/plain": [
       "'C:\\\\Users\\\\himan\\\\Documents'"
      ]
     },
     "execution_count": 65,
     "metadata": {},
     "output_type": "execute_result"
    }
   ],
   "source": [
    "a=os.getcwd()\n",
    "a"
   ]
  },
  {
   "cell_type": "code",
   "execution_count": 66,
   "metadata": {
    "_cell_guid": "cd74bcac-f991-431c-bf2c-354922e175d2",
    "_execution_state": "idle",
    "_uuid": "30018f35d90c286acd7d75f049dca3f8ef40144e"
   },
   "outputs": [
    {
     "data": {
      "text/html": [
       "<div>\n",
       "<style scoped>\n",
       "    .dataframe tbody tr th:only-of-type {\n",
       "        vertical-align: middle;\n",
       "    }\n",
       "\n",
       "    .dataframe tbody tr th {\n",
       "        vertical-align: top;\n",
       "    }\n",
       "\n",
       "    .dataframe thead th {\n",
       "        text-align: right;\n",
       "    }\n",
       "</style>\n",
       "<table border=\"1\" class=\"dataframe\">\n",
       "  <thead>\n",
       "    <tr style=\"text-align: right;\">\n",
       "      <th></th>\n",
       "      <th>Id</th>\n",
       "      <th>SepalLengthCm</th>\n",
       "      <th>SepalWidthCm</th>\n",
       "      <th>PetalLengthCm</th>\n",
       "      <th>PetalWidthCm</th>\n",
       "      <th>Species</th>\n",
       "    </tr>\n",
       "  </thead>\n",
       "  <tbody>\n",
       "    <tr>\n",
       "      <td>0</td>\n",
       "      <td>1</td>\n",
       "      <td>5.1</td>\n",
       "      <td>3.5</td>\n",
       "      <td>1.4</td>\n",
       "      <td>0.2</td>\n",
       "      <td>Iris-setosa</td>\n",
       "    </tr>\n",
       "    <tr>\n",
       "      <td>1</td>\n",
       "      <td>2</td>\n",
       "      <td>4.9</td>\n",
       "      <td>3.0</td>\n",
       "      <td>1.4</td>\n",
       "      <td>0.2</td>\n",
       "      <td>Iris-setosa</td>\n",
       "    </tr>\n",
       "    <tr>\n",
       "      <td>2</td>\n",
       "      <td>3</td>\n",
       "      <td>4.7</td>\n",
       "      <td>3.2</td>\n",
       "      <td>1.3</td>\n",
       "      <td>0.2</td>\n",
       "      <td>Iris-setosa</td>\n",
       "    </tr>\n",
       "    <tr>\n",
       "      <td>3</td>\n",
       "      <td>4</td>\n",
       "      <td>4.6</td>\n",
       "      <td>3.1</td>\n",
       "      <td>1.5</td>\n",
       "      <td>0.2</td>\n",
       "      <td>Iris-setosa</td>\n",
       "    </tr>\n",
       "    <tr>\n",
       "      <td>4</td>\n",
       "      <td>5</td>\n",
       "      <td>5.0</td>\n",
       "      <td>3.6</td>\n",
       "      <td>1.4</td>\n",
       "      <td>0.2</td>\n",
       "      <td>Iris-setosa</td>\n",
       "    </tr>\n",
       "    <tr>\n",
       "      <td>...</td>\n",
       "      <td>...</td>\n",
       "      <td>...</td>\n",
       "      <td>...</td>\n",
       "      <td>...</td>\n",
       "      <td>...</td>\n",
       "      <td>...</td>\n",
       "    </tr>\n",
       "    <tr>\n",
       "      <td>145</td>\n",
       "      <td>146</td>\n",
       "      <td>6.7</td>\n",
       "      <td>3.0</td>\n",
       "      <td>5.2</td>\n",
       "      <td>2.3</td>\n",
       "      <td>Iris-virginica</td>\n",
       "    </tr>\n",
       "    <tr>\n",
       "      <td>146</td>\n",
       "      <td>147</td>\n",
       "      <td>6.3</td>\n",
       "      <td>2.5</td>\n",
       "      <td>5.0</td>\n",
       "      <td>1.9</td>\n",
       "      <td>Iris-virginica</td>\n",
       "    </tr>\n",
       "    <tr>\n",
       "      <td>147</td>\n",
       "      <td>148</td>\n",
       "      <td>6.5</td>\n",
       "      <td>3.0</td>\n",
       "      <td>5.2</td>\n",
       "      <td>2.0</td>\n",
       "      <td>Iris-virginica</td>\n",
       "    </tr>\n",
       "    <tr>\n",
       "      <td>148</td>\n",
       "      <td>149</td>\n",
       "      <td>6.2</td>\n",
       "      <td>3.4</td>\n",
       "      <td>5.4</td>\n",
       "      <td>2.3</td>\n",
       "      <td>Iris-virginica</td>\n",
       "    </tr>\n",
       "    <tr>\n",
       "      <td>149</td>\n",
       "      <td>150</td>\n",
       "      <td>5.9</td>\n",
       "      <td>3.0</td>\n",
       "      <td>5.1</td>\n",
       "      <td>1.8</td>\n",
       "      <td>Iris-virginica</td>\n",
       "    </tr>\n",
       "  </tbody>\n",
       "</table>\n",
       "<p>150 rows × 6 columns</p>\n",
       "</div>"
      ],
      "text/plain": [
       "      Id  SepalLengthCm  SepalWidthCm  PetalLengthCm  PetalWidthCm  \\\n",
       "0      1            5.1           3.5            1.4           0.2   \n",
       "1      2            4.9           3.0            1.4           0.2   \n",
       "2      3            4.7           3.2            1.3           0.2   \n",
       "3      4            4.6           3.1            1.5           0.2   \n",
       "4      5            5.0           3.6            1.4           0.2   \n",
       "..   ...            ...           ...            ...           ...   \n",
       "145  146            6.7           3.0            5.2           2.3   \n",
       "146  147            6.3           2.5            5.0           1.9   \n",
       "147  148            6.5           3.0            5.2           2.0   \n",
       "148  149            6.2           3.4            5.4           2.3   \n",
       "149  150            5.9           3.0            5.1           1.8   \n",
       "\n",
       "            Species  \n",
       "0       Iris-setosa  \n",
       "1       Iris-setosa  \n",
       "2       Iris-setosa  \n",
       "3       Iris-setosa  \n",
       "4       Iris-setosa  \n",
       "..              ...  \n",
       "145  Iris-virginica  \n",
       "146  Iris-virginica  \n",
       "147  Iris-virginica  \n",
       "148  Iris-virginica  \n",
       "149  Iris-virginica  \n",
       "\n",
       "[150 rows x 6 columns]"
      ]
     },
     "execution_count": 66,
     "metadata": {},
     "output_type": "execute_result"
    }
   ],
   "source": [
    "# Open the file for reading...\n",
    "df = pd.read_csv('iris.csv')\n",
    "df"
   ]
  },
  {
   "cell_type": "code",
   "execution_count": 67,
   "metadata": {
    "_cell_guid": "383010d9-3beb-47ae-af6c-9e4bc4931085",
    "_execution_state": "idle",
    "_uuid": "0a1315631dc29a3d3fdd8052dc3b76fa3ba791b9"
   },
   "outputs": [
    {
     "data": {
      "text/plain": [
       "SepalLengthCm    0\n",
       "SepalWidthCm     0\n",
       "PetalLengthCm    0\n",
       "PetalWidthCm     0\n",
       "Species          0\n",
       "dtype: int64"
      ]
     },
     "execution_count": 67,
     "metadata": {},
     "output_type": "execute_result"
    }
   ],
   "source": [
    "#checking drop/null values check\n",
    "df = df.drop(['Id'],axis=1)\n",
    "df.isnull().sum()"
   ]
  },
  {
   "cell_type": "code",
   "execution_count": 68,
   "metadata": {
    "_cell_guid": "efcdcbe7-69b9-40b1-aecb-10d8a57149ce",
    "_execution_state": "idle",
    "_uuid": "0ba782108666e8f8c21cced2a99ee3a95a533e77"
   },
   "outputs": [],
   "source": [
    "df[\"Species\"] = df[\"Species\"].map({\n",
    "    \"Iris-setosa\": 0,\n",
    "    \"Iris-versicolor\": 1,\n",
    "    \"Iris-virginica\": 2\n",
    "}).astype(int)"
   ]
  },
  {
   "cell_type": "code",
   "execution_count": 69,
   "metadata": {
    "_cell_guid": "65b925c9-37fc-4faf-a14e-5dc0a56d8d9b",
    "_execution_state": "idle",
    "_uuid": "15d01db01c839fa7bd231a7e74f6a041a5da6dfa"
   },
   "outputs": [],
   "source": [
    "x_train = df[['SepalLengthCm', 'SepalWidthCm', 'PetalLengthCm', 'PetalWidthCm']]\n",
    "y_train = df['Species']"
   ]
  },
  {
   "cell_type": "code",
   "execution_count": 70,
   "metadata": {
    "_cell_guid": "db37c288-014e-464f-a73a-570134689572",
    "_execution_state": "idle",
    "_uuid": "9b01dbcfb5b155c825b28b8c0b17c784a547f779"
   },
   "outputs": [
    {
     "name": "stderr",
     "output_type": "stream",
     "text": [
      "C:\\Users\\himan\\Anaconda3\\lib\\site-packages\\ipykernel_launcher.py:8: FutureWarning: Method .as_matrix will be removed in a future version. Use .values instead.\n",
      "  \n"
     ]
    }
   ],
   "source": [
    "new_y = []\n",
    "for i in y_train:\n",
    "    a = [0,0,0]\n",
    "    a[i] = 1\n",
    "    new_y.append(a)   \n",
    "    \n",
    "columns = list(x_train)\n",
    "X = pd.DataFrame.as_matrix(x_train,columns=columns)\n",
    "Y = np.array(new_y)"
   ]
  },
  {
   "cell_type": "code",
   "execution_count": 71,
   "metadata": {
    "_cell_guid": "3605f966-1d8e-4f73-aa49-0800f75ed3c2",
    "_execution_state": "idle",
    "_uuid": "9a1ce35be409236475beb402bce664cd33257270"
   },
   "outputs": [
    {
     "name": "stdout",
     "output_type": "stream",
     "text": [
      "No of training (X):(4, 150)\n",
      "No of training (X):(3, 150)\n"
     ]
    }
   ],
   "source": [
    "#flatten the features for feeding into network base layer\n",
    "\n",
    "X_train_flatten = X.reshape(X.shape[0],-1).T\n",
    "Y_train_flatten = Y.reshape(Y.shape[0],-1).T\n",
    "print(\"No of training (X):\"+str(X_train_flatten.shape))\n",
    "print(\"No of training (X):\"+str(Y_train_flatten.shape))"
   ]
  },
  {
   "cell_type": "code",
   "execution_count": 72,
   "metadata": {},
   "outputs": [],
   "source": [
    "#(YY_train_flatten).shape"
   ]
  },
  {
   "cell_type": "code",
   "execution_count": 73,
   "metadata": {},
   "outputs": [],
   "source": [
    "#Normalize \n",
    "XX_train_flatten = normalize(X_train_flatten)\n",
    "YY_train_flatten = normalize(Y_train_flatten)"
   ]
  },
  {
   "cell_type": "code",
   "execution_count": 74,
   "metadata": {
    "_cell_guid": "e340e1b3-a10e-4a39-a559-7e0b65d43cc2",
    "_execution_state": "idle",
    "_uuid": "097a7ff49285b293f8fb4fb923fec89fa31f2ac5"
   },
   "outputs": [],
   "source": [
    "# creating the placeholders for X & Y \n",
    "def create_placeholders(n_x,n_y):\n",
    "    \n",
    "    X = tf.placeholder(shape=[n_x,None],dtype=tf.float32)\n",
    "    Y = tf.placeholder(shape=[n_y,None],dtype=tf.float32)\n",
    "    \n",
    "    return X,Y"
   ]
  },
  {
   "cell_type": "code",
   "execution_count": 75,
   "metadata": {},
   "outputs": [
    {
     "name": "stdout",
     "output_type": "stream",
     "text": [
      "(150, 4, 150, 3)\n"
     ]
    }
   ],
   "source": [
    "print(X.shape + Y.shape)"
   ]
  },
  {
   "cell_type": "code",
   "execution_count": 76,
   "metadata": {
    "_cell_guid": "cf324953-f0db-4613-8885-6fc25e084daa",
    "_execution_state": "idle",
    "_uuid": "0ac10339d7e772031c13a36e8b813c8727de6c9d"
   },
   "outputs": [],
   "source": [
    "#initialize paramete \n",
    "def initialize_parameters():\n",
    "    \n",
    "    W1 = tf.get_variable(\"W1\",[2,4],initializer = tf.random_normal_initializer())#tf.contrib.layers.xavier_initializer())\n",
    "    b1 = tf.get_variable(\"b1\",[2,1],initializer = tf.zeros_initializer())\n",
    "    W2 = tf.add(tf.math.scalar_mul(1.1,tf.get_variable(\"W2\",[3,2],initializer = tf.random_uniform_initializer())),-0.1)#tf.contrib.layers.xavier_initializer())\n",
    "    b2 = tf.get_variable(\"b2\",[3,1],initializer = tf.zeros_initializer())\n",
    "    \n",
    "    parameters = {\"W1\":W1,\n",
    "                  \"b1\":b1,\n",
    "                  \"W2\":W2,\n",
    "                  \"b2\":b2}\n",
    "                  \n",
    "    return parameters"
   ]
  },
  {
   "cell_type": "code",
   "execution_count": 77,
   "metadata": {
    "_cell_guid": "b22b4ac2-7113-4a0c-8139-4af046b11b29",
    "_execution_state": "idle",
    "_uuid": "3731312be7a209d251492625f40f4ae53f16a089"
   },
   "outputs": [],
   "source": [
    "#forward propogation\n",
    "def forward_propagation(X, parameters):\n",
    "    \n",
    "    W1 = parameters['W1']\n",
    "    b1 = parameters['b1']    \n",
    "    W2 = parameters['W2']\n",
    "    b2 = parameters['b2']\n",
    "\n",
    "    Z1 = tf.add(tf.matmul(W1,X),b1)\n",
    "    Z1 = tf.nn.relu(Z1)\n",
    "    Z2 = tf.add(tf.matmul(W2,Z1),b2)\n",
    "    return Z2"
   ]
  },
  {
   "cell_type": "code",
   "execution_count": 78,
   "metadata": {
    "_cell_guid": "116a9ef5-15c5-474a-a616-80a86c938a48",
    "_execution_state": "idle",
    "_uuid": "a738d3a62d62beb6b67241ed723b248b74da0488"
   },
   "outputs": [],
   "source": [
    "# compute function \n",
    "def compute_cost(Z2,Y):\n",
    "    \n",
    "    logits = tf.transpose(Z2)\n",
    "    labels = tf.transpose(Y)\n",
    "    \n",
    "    cost = tf.reduce_mean(tf.nn.softmax_cross_entropy_with_logits(logits=logits,labels=labels))\n",
    "    \n",
    "    return cost\n",
    "\n",
    "def compute_accuracy(Z2,Y):\n",
    "    \n",
    "    correct_prediction = tf.equal(tf.argmax(Z2), tf.argmax(Y))\n",
    "    accuracy = tf.reduce_mean(tf.cast(correct_prediction, tf.float32))\n",
    "\n",
    "    return accuracy\n"
   ]
  },
  {
   "cell_type": "code",
   "execution_count": 79,
   "metadata": {},
   "outputs": [
    {
     "name": "stderr",
     "output_type": "stream",
     "text": [
      "W1230 16:15:22.942051  8700 deprecation.py:323] From <ipython-input-78-5e90f7ef81c9>:7: softmax_cross_entropy_with_logits (from tensorflow.python.ops.nn_ops) is deprecated and will be removed in a future version.\n",
      "Instructions for updating:\n",
      "\n",
      "Future major versions of TensorFlow will allow gradients to flow\n",
      "into the labels input on backprop by default.\n",
      "\n",
      "See `tf.nn.softmax_cross_entropy_with_logits_v2`.\n",
      "\n"
     ]
    },
    {
     "data": {
      "image/png": "[encoded data removed]",
      "text/plain": [
       "<Figure size 432x288 with 1 Axes>"
      ]
     },
     "metadata": {
      "needs_background": "light"
     },
     "output_type": "display_data"
    }
   ],
   "source": [
    "# Running the NN !! \n",
    "tf.reset_default_graph()\n",
    "(n_x, m) = XX_train_flatten.shape       # shape of X                    \n",
    "n_y = Y_train_flatten.shape[0]         # shape of Y\n",
    "X, Y = create_placeholders(n_x,n_y)    # creating placeholder \n",
    "tf.set_random_seed(42)\n",
    "p = initialize_parameters()            # initialize parameter \n",
    "Z6 = forward_propagation(X,p)          # forward prop\n",
    "y_softmax = tf.nn.softmax(Z6)          # softmax function \n",
    "cost = compute_cost(Z6,Y)              # cost function \n",
    "optimizer = tf.train.GradientDescentOptimizer(learning_rate=0.05).minimize(cost)  # gradient descent, backprop, update,optimiz\n",
    "accuracy = compute_accuracy(Z6,Y)\n",
    "sess = tf.Session()\n",
    "sess.run(tf.global_variables_initializer())    #initializae \n",
    "par = sess.run(p)\n",
    "Y_pred = sess.run(Z6,feed_dict={X:XX_train_flatten})    #forward prop test \n",
    "cost_value = sess.run(cost,feed_dict={Z6:Y_pred,Y:Y_train_flatten})  #cost function test - First cost function \n",
    "costs =[]\n",
    "accuracies = []\n",
    "for i in range(0,5000):                # 2000 epoch !! \n",
    "    _,new_cost_value,new_acc_value = sess.run([optimizer, cost,accuracy], feed_dict={X: XX_train_flatten, Y: Y_train_flatten})\n",
    "    costs.append(new_cost_value)\n",
    "    accuracies += [new_acc_value]\n",
    "    \n",
    "p = sess.run(p)                        # parameter saving \n",
    "y_softmax = sess.run(y_softmax,feed_dict={X: XX_train_flatten})    # running softmax \n",
    "\n",
    "plt.plot(np.squeeze(costs))            # plot \n",
    "plt.plot(np.squeeze(accuracies))\n",
    "plt.ylabel('cost')\n",
    "plt.xlabel('iterations (per tens)')\n",
    "plt.title(\"Learning rate =\" + str(.01))\n",
    "plt.show()        "
   ]
  },
  {
   "cell_type": "code",
   "execution_count": 80,
   "metadata": {},
   "outputs": [],
   "source": [
    "#p"
   ]
  },
  {
   "cell_type": "code",
   "execution_count": 81,
   "metadata": {},
   "outputs": [],
   "source": [
    "#y_softmax"
   ]
  },
  {
   "cell_type": "code",
   "execution_count": 82,
   "metadata": {},
   "outputs": [
    {
     "name": "stdout",
     "output_type": "stream",
     "text": [
      "the Accuracy is :94.0\n"
     ]
    }
   ],
   "source": [
    "#testing prediction !! \n",
    "correct_prediction = tf.equal(tf.argmax(y_softmax), tf.argmax(Y_train_flatten))\n",
    "accuracy = tf.reduce_mean(tf.cast(correct_prediction, tf.float32))\n",
    "\n",
    "print(\"the Accuracy is :\"+str(sess.run(accuracy*100, feed_dict={X: XX_train_flatten, Y: Y_train_flatten})))"
   ]
  },
  {
   "cell_type": "code",
   "execution_count": 83,
   "metadata": {},
   "outputs": [],
   "source": [
    "dx = (XX_train_flatten.max(1)-XX_train_flatten.min(1))/10000\n",
    "dx[1:] = 0\n",
    "#X_temp = X_train_flatten-width.reshape(-1,1)\n",
    "#X_train_flatten"
   ]
  },
  {
   "cell_type": "code",
   "execution_count": 84,
   "metadata": {},
   "outputs": [],
   "source": [
    "X_temp = XX_train_flatten+dx.reshape(-1,1)\n",
    "Y_pred = sess.run(tf.nn.softmax(Z6),feed_dict={X:XX_train_flatten}).copy()\n",
    "Y_temp = sess.run(tf.nn.softmax(Z6),feed_dict={X:X_temp}).copy()\n",
    "dy = Y_temp-Y_pred\n",
    "a=(dy/dx[0]).mean(1)"
   ]
  },
  {
   "cell_type": "code",
   "execution_count": 85,
   "metadata": {},
   "outputs": [
    {
     "data": {
      "text/plain": [
       "array([-4.5763116e-04, -1.8697927e-05,  3.8759408e-06], dtype=float32)"
      ]
     },
     "execution_count": 85,
     "metadata": {},
     "output_type": "execute_result"
    }
   ],
   "source": [
    "a"
   ]
  },
  {
   "cell_type": "code",
   "execution_count": 86,
   "metadata": {},
   "outputs": [],
   "source": [
    "#initialize paramete \n",
    "def initialize_parameters_2():\n",
    "    \n",
    "    W1 = tf.get_variable(\"W1\",[3,4],initializer = tf.zeros_initializer())#tf.contrib.layers.xavier_initializer())\n",
    "    b1 = tf.get_variable(\"b1\",[3,1],initializer = tf.zeros_initializer())\n",
    "\n",
    "    \n",
    "    para_2 = {\"W1\":W1,\n",
    "                  \"b1\":b1}\n",
    "                  \n",
    "    return para_2"
   ]
  },
  {
   "cell_type": "code",
   "execution_count": 87,
   "metadata": {},
   "outputs": [],
   "source": [
    "#forward propogation\n",
    "def forward_propagation_2(X, parameters):\n",
    "    \n",
    "    W1 = parameters['W1']\n",
    "    b1 = parameters['b1']\n",
    "\n",
    "    Z1 = tf.add(tf.matmul(W1,X),b1)\n",
    "\n",
    "    return Z1"
   ]
  },
  {
   "cell_type": "code",
   "execution_count": 88,
   "metadata": {},
   "outputs": [
    {
     "data": {
      "image/png": "[encoded data removed]",
      "text/plain": [
       "<Figure size 432x288 with 1 Axes>"
      ]
     },
     "metadata": {
      "needs_background": "light"
     },
     "output_type": "display_data"
    }
   ],
   "source": [
    "# Running the NN !! \n",
    "tf.reset_default_graph()\n",
    "(n_x, m) = XX_train_flatten.shape       # shape of X                    \n",
    "n_y = Y_train_flatten.shape[0]         # shape of Y\n",
    "X, Y = create_placeholders(n_x,n_y)    # creating placeholder \n",
    "tf.set_random_seed(42)\n",
    "p = initialize_parameters_2()            # initialize parameter \n",
    "Z6 = forward_propagation_2(X,p)          # forward prop\n",
    "y_softmax = tf.nn.softmax(Z6)          # softmax function \n",
    "cost = compute_cost(Z6,Y)              # cost function\n",
    "accuracy = compute_accuracy(Z6,Y)\n",
    "optimizer = tf.train.GradientDescentOptimizer(learning_rate=2.2).minimize(cost)  # gradient descent, backprop, update,optimiz\n",
    "sess = tf.Session()\n",
    "sess.run(tf.global_variables_initializer())    #initializae \n",
    "par = sess.run(p)\n",
    "Y_pred = sess.run(Z6,feed_dict={X:XX_train_flatten})    #forward prop test \n",
    "cost_value = sess.run(cost,feed_dict={Z6:Y_pred,Y:Y_train_flatten})  #cost function test - First cost function \n",
    "costs =[]\n",
    "accuracies = []\n",
    "for i in range(0,2000):                # 2000 epoch !! \n",
    "    _,new_cost_value,new_acc_value = sess.run([optimizer, cost, accuracy], feed_dict={X: XX_train_flatten, Y: Y_train_flatten})\n",
    "    costs.append(new_cost_value)\n",
    "    accuracies += [new_acc_value]\n",
    "\n",
    "p = sess.run(p)                        # parameter saving \n",
    "y_softmax = sess.run(y_softmax,feed_dict={X: XX_train_flatten})    # running softmax \n",
    "\n",
    "plt.plot(np.squeeze(costs))# plot\n",
    "plt.plot(np.squeeze(accuracies))\n",
    "plt.ylabel('cost')\n",
    "plt.xlabel('iterations (per tens)')\n",
    "plt.title(\"Learning rate =\" + str(.01))\n",
    "plt.show()        "
   ]
  },
  {
   "cell_type": "code",
   "execution_count": 89,
   "metadata": {},
   "outputs": [
    {
     "name": "stdout",
     "output_type": "stream",
     "text": [
      "the Accuracy is :96.666664\n"
     ]
    }
   ],
   "source": [
    "#testing prediction !! \n",
    "correct_prediction = tf.equal(tf.argmax(y_softmax), tf.argmax(Y_train_flatten))\n",
    "accuracy = tf.reduce_mean(tf.cast(correct_prediction, tf.float32))\n",
    "\n",
    "print(\"the Accuracy is :\"+str(sess.run(accuracy*100, feed_dict={X: XX_train_flatten, Y: Y_train_flatten})))"
   ]
  },
  {
   "cell_type": "code",
   "execution_count": 90,
   "metadata": {},
   "outputs": [
    {
     "data": {
      "text/plain": [
       "array([[ 0.00000000e+00,  0.00000000e+00, -1.49157131e-10,\n",
       "         0.00000000e+00,  0.00000000e+00, -3.05311332e-16,\n",
       "         0.00000000e+00,  0.00000000e+00,  0.00000000e+00,\n",
       "         0.00000000e+00, -1.47792889e-12,  0.00000000e+00,\n",
       "        -3.27418093e-11,  0.00000000e+00,  0.00000000e+00,\n",
       "         0.00000000e+00, -2.67164069e-12,  0.00000000e+00,\n",
       "         0.00000000e+00,  0.00000000e+00,  0.00000000e+00,\n",
       "        -3.19744231e-14,  0.00000000e+00, -1.54498810e-18,\n",
       "         0.00000000e+00,  0.00000000e+00, -7.07767178e-16,\n",
       "         1.02318154e-12,  0.00000000e+00,  0.00000000e+00,\n",
       "         0.00000000e+00,  0.00000000e+00,  8.87666829e-10,\n",
       "         2.61934474e-10,  0.00000000e+00,  0.00000000e+00,\n",
       "         0.00000000e+00,  0.00000000e+00,  0.00000000e+00,\n",
       "         0.00000000e+00, -1.77351467e-11, -5.77315973e-14,\n",
       "         0.00000000e+00,  0.00000000e+00,  0.00000000e+00,\n",
       "        -1.63424829e-13,  0.00000000e+00,  0.00000000e+00,\n",
       "         0.00000000e+00,  0.00000000e+00,  0.00000000e+00,\n",
       "         0.00000000e+00,  0.00000000e+00,  0.00000000e+00,\n",
       "         0.00000000e+00,  0.00000000e+00,  0.00000000e+00,\n",
       "         0.00000000e+00,  0.00000000e+00,  0.00000000e+00,\n",
       "         0.00000000e+00,  0.00000000e+00,  0.00000000e+00,\n",
       "         0.00000000e+00,  0.00000000e+00,  0.00000000e+00,\n",
       "         0.00000000e+00,  0.00000000e+00,  0.00000000e+00,\n",
       "         0.00000000e+00,  0.00000000e+00,  0.00000000e+00,\n",
       "         0.00000000e+00,  0.00000000e+00,  0.00000000e+00,\n",
       "         0.00000000e+00,  0.00000000e+00,  0.00000000e+00,\n",
       "         0.00000000e+00,  0.00000000e+00,  0.00000000e+00,\n",
       "         0.00000000e+00,  0.00000000e+00,  0.00000000e+00,\n",
       "         0.00000000e+00,  0.00000000e+00,  0.00000000e+00,\n",
       "         0.00000000e+00,  0.00000000e+00,  0.00000000e+00,\n",
       "         0.00000000e+00,  0.00000000e+00,  0.00000000e+00,\n",
       "        -3.13890856e-42,  0.00000000e+00,  0.00000000e+00,\n",
       "         0.00000000e+00,  0.00000000e+00,  0.00000000e+00,\n",
       "         0.00000000e+00,  0.00000000e+00,  0.00000000e+00,\n",
       "         0.00000000e+00,  0.00000000e+00,  0.00000000e+00,\n",
       "         0.00000000e+00,  0.00000000e+00,  0.00000000e+00,\n",
       "         0.00000000e+00,  0.00000000e+00,  0.00000000e+00,\n",
       "         0.00000000e+00,  0.00000000e+00,  0.00000000e+00,\n",
       "         0.00000000e+00,  0.00000000e+00,  0.00000000e+00,\n",
       "         0.00000000e+00,  0.00000000e+00,  0.00000000e+00,\n",
       "         0.00000000e+00,  0.00000000e+00,  0.00000000e+00,\n",
       "         0.00000000e+00,  0.00000000e+00,  0.00000000e+00,\n",
       "         0.00000000e+00,  0.00000000e+00,  0.00000000e+00,\n",
       "         0.00000000e+00,  0.00000000e+00,  0.00000000e+00,\n",
       "         0.00000000e+00,  0.00000000e+00,  0.00000000e+00,\n",
       "         0.00000000e+00,  0.00000000e+00,  0.00000000e+00,\n",
       "         0.00000000e+00,  0.00000000e+00,  0.00000000e+00,\n",
       "         0.00000000e+00,  0.00000000e+00,  0.00000000e+00,\n",
       "         0.00000000e+00,  0.00000000e+00,  0.00000000e+00,\n",
       "         0.00000000e+00,  0.00000000e+00,  0.00000000e+00],\n",
       "       [-1.69406589e-20,  1.51788304e-18,  9.35124374e-19,\n",
       "         1.30104261e-18, -8.47032947e-21,  2.79520873e-20,\n",
       "        -3.38813179e-20,  3.52365706e-19,  7.58941521e-18,\n",
       "         1.24683250e-18,  4.48927462e-20,  2.43945489e-19,\n",
       "         1.51788304e-18,  4.33680869e-19,  1.42936810e-21,\n",
       "         3.50724580e-22,  4.65868121e-21, -1.69406589e-20,\n",
       "        -6.77626358e-21,  2.24463731e-20,  1.87024875e-18,\n",
       "         9.65617560e-20, -1.27054942e-21,  7.58941521e-19,\n",
       "         9.21571847e-19,  3.90312782e-18,  2.43945489e-19,\n",
       "         1.79570985e-19,  2.30392962e-19,  9.75781955e-19,\n",
       "         4.55364912e-18,  7.72494048e-19, -3.70576914e-22,\n",
       "        -1.32348898e-22,  1.24683250e-18,  8.06375366e-19,\n",
       "        -1.01643954e-20,  1.24683250e-18,  2.38524478e-18,\n",
       "         3.52365706e-19, -1.01643954e-20, -4.85722573e-17,\n",
       "         5.96311195e-19, -4.74338450e-20,  1.32137140e-19,\n",
       "         3.57786717e-18, -5.08219768e-21,  9.21571847e-19,\n",
       "         9.74087889e-20,  1.89735380e-19,  3.01270120e-12,\n",
       "         9.94759830e-13,  4.77484718e-12,  2.18278728e-11,\n",
       "         2.45563569e-11,  2.27373675e-12,  8.52651283e-13,\n",
       "         1.19371180e-12,  1.20508048e-11,  9.66338121e-13,\n",
       "         7.27595761e-12,  7.38964445e-13,  7.63975549e-11,\n",
       "         2.45563569e-11,  2.20268248e-13,  8.81072992e-13,\n",
       "        -6.82121026e-13,  5.22959454e-12,  8.73114914e-10,\n",
       "         1.13686838e-12,  1.59161573e-12,  6.82121026e-13,\n",
       "         8.73114914e-11,  6.00266503e-11,  1.30739863e-12,\n",
       "         3.41060513e-13,  2.54658516e-11,  2.54658516e-11,\n",
       "         7.95807864e-12,  5.25801624e-13,  1.70530257e-11,\n",
       "         8.86757334e-12,  1.53477231e-12,  7.27595761e-10,\n",
       "        -6.82121026e-13,  1.13686838e-13,  6.02540240e-12,\n",
       "        -4.36557457e-11,  2.84217094e-13, -2.27373675e-12,\n",
       "        -5.45696821e-12,  2.61479727e-12, -1.13686838e-12,\n",
       "         2.38742359e-12,  1.52340363e-11,  7.38964445e-13,\n",
       "         2.67164069e-12,  1.36424205e-12,  6.75015599e-14,\n",
       "         1.87583282e-12,  5.82076609e-11,  4.65661287e-10,\n",
       "         0.00000000e+00,  1.86264515e-09,  7.56699592e-10,\n",
       "         4.74974513e-08, -1.81898940e-11,  1.72294676e-08,\n",
       "         1.76951289e-08,  8.00355338e-11,  1.81898940e-11,\n",
       "         6.40284270e-10,  4.36557457e-11,  8.44011083e-10,\n",
       "         2.47382559e-10,  4.63842298e-11,  1.52795110e-10,\n",
       "         2.91038305e-10, -4.17232513e-07,  5.58793545e-09,\n",
       "         4.00177669e-10,  6.73026079e-11,  3.79979610e-07,\n",
       "         1.92812877e-10,  4.72937245e-11,  3.63797881e-10,\n",
       "        -9.09494702e-12,  3.63797881e-12,  1.22236088e-09,\n",
       "         9.31322575e-10,  8.38190317e-09,  3.27418093e-11,\n",
       "         1.22236088e-09,  2.98314262e-10,  9.77888703e-09,\n",
       "         5.82076609e-09,  4.45652404e-11, -2.54658516e-11,\n",
       "         6.36646291e-12,  7.63975549e-11,  3.49245965e-10,\n",
       "         3.72892828e-11,  4.65661287e-10,  3.63797881e-10,\n",
       "         8.00355338e-11,  1.18234311e-10,  0.00000000e+00,\n",
       "         1.18234311e-10,  1.00044417e-11,  5.82076609e-11],\n",
       "       [ 0.00000000e+00,  0.00000000e+00,  0.00000000e+00,\n",
       "         0.00000000e+00,  0.00000000e+00,  0.00000000e+00,\n",
       "         0.00000000e+00,  0.00000000e+00,  0.00000000e+00,\n",
       "         0.00000000e+00,  0.00000000e+00,  0.00000000e+00,\n",
       "         0.00000000e+00,  0.00000000e+00,  0.00000000e+00,\n",
       "         0.00000000e+00,  0.00000000e+00,  0.00000000e+00,\n",
       "         0.00000000e+00,  0.00000000e+00,  0.00000000e+00,\n",
       "         0.00000000e+00,  0.00000000e+00,  0.00000000e+00,\n",
       "         0.00000000e+00,  0.00000000e+00,  0.00000000e+00,\n",
       "         0.00000000e+00,  0.00000000e+00,  0.00000000e+00,\n",
       "         0.00000000e+00,  0.00000000e+00,  0.00000000e+00,\n",
       "         0.00000000e+00,  0.00000000e+00,  0.00000000e+00,\n",
       "         0.00000000e+00,  0.00000000e+00,  0.00000000e+00,\n",
       "         0.00000000e+00,  0.00000000e+00,  0.00000000e+00,\n",
       "         0.00000000e+00,  0.00000000e+00,  0.00000000e+00,\n",
       "         0.00000000e+00,  0.00000000e+00,  0.00000000e+00,\n",
       "         0.00000000e+00,  0.00000000e+00,  0.00000000e+00,\n",
       "         0.00000000e+00, -2.56148683e-32,  0.00000000e+00,\n",
       "         0.00000000e+00, -1.98020289e-40,  0.00000000e+00,\n",
       "         0.00000000e+00,  0.00000000e+00,  0.00000000e+00,\n",
       "         0.00000000e+00,  0.00000000e+00,  0.00000000e+00,\n",
       "         0.00000000e+00,  0.00000000e+00, -7.31010549e-38,\n",
       "        -2.40609000e-38,  0.00000000e+00, -4.99585099e-37,\n",
       "         0.00000000e+00,  0.00000000e+00,  0.00000000e+00,\n",
       "        -1.20972475e-33, -4.06372070e-39, -1.81518598e-40,\n",
       "        -4.38973672e-38, -1.76042034e-34, -1.14877869e-29,\n",
       "        -1.82201624e-37,  0.00000000e+00,  0.00000000e+00,\n",
       "         0.00000000e+00,  0.00000000e+00,  0.00000000e+00,\n",
       "        -8.72437214e-39,  0.00000000e+00,  0.00000000e+00,\n",
       "        -6.74416925e-40,  0.00000000e+00,  0.00000000e+00,\n",
       "        -8.23963497e-43,  0.00000000e+00,  0.00000000e+00,\n",
       "         0.00000000e+00,  0.00000000e+00,  0.00000000e+00,\n",
       "         0.00000000e+00,  0.00000000e+00,  0.00000000e+00,\n",
       "         0.00000000e+00, -1.94511074e-13,  0.00000000e+00,\n",
       "        -4.55364912e-17,  0.00000000e+00,  0.00000000e+00,\n",
       "         0.00000000e+00,  0.00000000e+00,  0.00000000e+00,\n",
       "         0.00000000e+00,  0.00000000e+00,  0.00000000e+00,\n",
       "        -1.17937861e-25, -6.82920314e-21, -2.01948392e-28,\n",
       "        -8.39588322e-23, -4.76456033e-21, -5.26681406e-25,\n",
       "         0.00000000e+00,  0.00000000e+00, -1.61296633e-33,\n",
       "         0.00000000e+00,  0.00000000e+00,  0.00000000e+00,\n",
       "         0.00000000e+00,  0.00000000e+00,  0.00000000e+00,\n",
       "         0.00000000e+00,  0.00000000e+00,  0.00000000e+00,\n",
       "         0.00000000e+00,  0.00000000e+00, -1.68398628e-12,\n",
       "         0.00000000e+00, -4.60297257e-32,  0.00000000e+00,\n",
       "         0.00000000e+00,  0.00000000e+00, -3.18270665e-25,\n",
       "         0.00000000e+00, -1.83964968e-21,  0.00000000e+00,\n",
       "         0.00000000e+00,  0.00000000e+00,  0.00000000e+00,\n",
       "         0.00000000e+00,  0.00000000e+00, -3.01344866e-28,\n",
       "        -4.52364397e-25, -1.06937910e-20,  0.00000000e+00]], dtype=float32)"
      ]
     },
     "execution_count": 90,
     "metadata": {},
     "output_type": "execute_result"
    }
   ],
   "source": [
    "dx = (X_train_flatten.max(1)-X_train_flatten.min(1))/10000\n",
    "X_temp = X_train_flatten+dx.reshape(-1,1)\n",
    "Y_pred = sess.run(tf.nn.softmax(Z6),feed_dict={X:X_train_flatten})\n",
    "Y_temp = sess.run(tf.nn.softmax(Z6),feed_dict={X:X_temp})\n",
    "dy = Y_temp-Y_pred\n",
    "(dy/dx[0]).mean(1)\n",
    "(dy/dx[0]).mean(1)\n",
    "dy"
   ]
  },
  {
   "cell_type": "code",
   "execution_count": 91,
   "metadata": {},
   "outputs": [],
   "source": [
    "X_temp = XX_train_flatten+dx.reshape(-1,1)\n",
    "Y_pred = sess.run(tf.nn.softmax(Z6),feed_dict={X:XX_train_flatten}).copy()\n",
    "Y_temp = sess.run(tf.nn.softmax(Z6),feed_dict={X:X_temp}).copy()\n",
    "dy = Y_temp-Y_pred\n",
    "b=(dy/dx[0]).mean(1)"
   ]
  },
  {
   "cell_type": "code",
   "execution_count": 92,
   "metadata": {},
   "outputs": [
    {
     "data": {
      "text/plain": [
       "array([-6.9168755e-07,  4.6566129e-07,  5.6051823e-07], dtype=float32)"
      ]
     },
     "execution_count": 92,
     "metadata": {},
     "output_type": "execute_result"
    }
   ],
   "source": [
    "b"
   ]
  },
  {
   "cell_type": "code",
   "execution_count": 93,
   "metadata": {},
   "outputs": [
    {
     "data": {
      "text/plain": [
       "array([-4.5763116e-04, -1.8697927e-05,  3.8759408e-06], dtype=float32)"
      ]
     },
     "execution_count": 93,
     "metadata": {},
     "output_type": "execute_result"
    }
   ],
   "source": [
    "a"
   ]
  },
  {
   "cell_type": "code",
   "execution_count": 94,
   "metadata": {},
   "outputs": [
    {
     "data": {
      "text/plain": [
       "array([-660.6155   ,   41.153492 ,    5.9149237], dtype=float32)"
      ]
     },
     "execution_count": 94,
     "metadata": {},
     "output_type": "execute_result"
    }
   ],
   "source": [
    "abs(a-b)/b"
   ]
  },
  {
   "cell_type": "code",
   "execution_count": null,
   "metadata": {},
   "outputs": [],
   "source": []
  },
  {
   "cell_type": "code",
   "execution_count": null,
   "metadata": {},
   "outputs": [],
   "source": []
  }
 ],
 "metadata": {
  "kernelspec": {
   "display_name": "Python 3",
   "language": "python",
   "name": "python3"
  },
  "language_info": {
   "codemirror_mode": {
    "name": "ipython",
    "version": 3
   },
   "file_extension": ".py",
   "mimetype": "text/x-python",
   "name": "python",
   "nbconvert_exporter": "python",
   "pygments_lexer": "ipython3",
   "version": "3.6.8"
  }
 },
 "nbformat": 4,
 "nbformat_minor": 1
}
