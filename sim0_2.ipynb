{
 "cells": [
  {
   "cell_type": "code",
   "execution_count": 1,
   "metadata": {},
   "outputs": [],
   "source": [
    "import numpy as np\n",
    "import pandas as pd\n",
    "from scipy.stats import iqr\n",
    "from sklearn.neural_network import MLPClassifier"
   ]
  },
  {
   "cell_type": "code",
   "execution_count": 39,
   "metadata": {},
   "outputs": [],
   "source": [
    "r_x = 3\n",
    "r_e = 1\n",
    "r_xe = r_x+r_e\n",
    "r_z = (10,5)\n",
    "r_ez = (10,5)\n",
    "r_y = 3\n",
    "n = 10000"
   ]
  },
  {
   "cell_type": "code",
   "execution_count": 21,
   "metadata": {},
   "outputs": [],
   "source": [
    "\n",
    "\n",
    "choose = lambda x,y: int(np.product(np.arange(x,x-y,-1))/np.product(np.arange(1,y+1)))\n",
    "bind = lambda *x: np.hstack(x) \n",
    "relu = lambda x: np.maximum(x,0)\n",
    "softmax = lambda x: np.divide(np.exp(x),np.exp(x).sum(1).reshape(-1,1))\n",
    "\n",
    "ones = np.ones((n,1))\n",
    "w = np.ones((1,2))\n",
    "for i in range(2,r_xe):\n",
    "    w = bind(bind(np.ones((i,1)),np.eye(i)).T,\\\n",
    "             bind(np.zeros((w.shape[0],1)),w).T).T\n",
    "xe = np.random.normal(size=(n,r_xe))\n",
    "z = np.random.normal(size=(n,choose(r_xe,2)))\n",
    "for i in range(w.shape[0]):\n",
    "    if w[i,-r_e:].sum() != 0 and w[i,:r_x].sum() != 0:\n",
    "        w[i,:] = 0\n",
    "xe = xe + z@w"
   ]
  },
  {
   "cell_type": "code",
   "execution_count": 27,
   "metadata": {},
   "outputs": [
    {
     "data": {
      "text/plain": [
       "(array([0, 1, 2]), array([5276, 3594, 1130]))"
      ]
     },
     "execution_count": 27,
     "metadata": {},
     "output_type": "execute_result"
    }
   ],
   "source": [
    "def mypred(x):\n",
    "    last = x.copy()\n",
    "    ones = np.ones((x.shape[0],1))\n",
    "    for i in range(len(wmat)):\n",
    "        w_tmp = wmat[i]\n",
    "        last = relu(bind(ones,last)@w_tmp)\n",
    "    return softmax(last)\n",
    "\n",
    "while True:\n",
    "    wmat = []\n",
    "    layers = []\n",
    "    last = xe\n",
    "    for i in range(len(r_z)):\n",
    "        w_tmp = np.random.uniform(size=(last.shape[1]+1,r_z[i]))*3-1\n",
    "        last = relu(bind(ones,last)@w_tmp)\n",
    "        wmat += [w_tmp]\n",
    "        layers += [last]\n",
    "    w_tmp = np.random.uniform(size=(last.shape[1]+1,r_y))*3-1\n",
    "    last = relu(bind(ones,last)@w_tmp)\n",
    "    wmat += [w_tmp]\n",
    "    layers += [last]\n",
    "    y = softmax(last).argmax(1)\n",
    "    (values,counts) = np.unique(y,return_counts=True)\n",
    "    if values.shape[0] == 3 and counts.min()>0.1*n: break\n",
    "np.unique(y,return_counts=True)"
   ]
  },
  {
   "cell_type": "code",
   "execution_count": 5,
   "metadata": {},
   "outputs": [
    {
     "ename": "NameError",
     "evalue": "name 'x' is not defined",
     "output_type": "error",
     "traceback": [
      "\u001b[0;31m---------------------------------------------------------------------------\u001b[0m",
      "\u001b[0;31mNameError\u001b[0m                                 Traceback (most recent call last)",
      "\u001b[0;32m<ipython-input-5-2acaa4998a33>\u001b[0m in \u001b[0;36m<module>\u001b[0;34m\u001b[0m\n\u001b[0;32m----> 1\u001b[0;31m \u001b[0msoftmax\u001b[0m\u001b[0;34m(\u001b[0m\u001b[0mmypred\u001b[0m\u001b[0;34m(\u001b[0m\u001b[0mbind\u001b[0m\u001b[0;34m(\u001b[0m\u001b[0mx\u001b[0m\u001b[0;34m,\u001b[0m\u001b[0mnp\u001b[0m\u001b[0;34m.\u001b[0m\u001b[0mzeros\u001b[0m\u001b[0;34m(\u001b[0m\u001b[0;34m(\u001b[0m\u001b[0mn\u001b[0m\u001b[0;34m,\u001b[0m\u001b[0;36m1\u001b[0m\u001b[0;34m)\u001b[0m\u001b[0;34m)\u001b[0m\u001b[0;34m)\u001b[0m\u001b[0;34m)\u001b[0m\u001b[0;34m)\u001b[0m\u001b[0;34m\u001b[0m\u001b[0;34m\u001b[0m\u001b[0m\n\u001b[0m",
      "\u001b[0;31mNameError\u001b[0m: name 'x' is not defined"
     ]
    }
   ],
   "source": [
    "softmax(mypred(bind(x,np.zeros((n,1)))))"
   ]
  },
  {
   "cell_type": "code",
   "execution_count": 28,
   "metadata": {},
   "outputs": [
    {
     "data": {
      "text/plain": [
       "array([[ 0.14975793, -0.18673661,  0.0330263 ],\n",
       "       [-0.05047949, -0.03696358,  0.09885803],\n",
       "       [-0.06272637,  0.04899884,  0.01982084]])"
      ]
     },
     "execution_count": 28,
     "metadata": {},
     "output_type": "execute_result"
    }
   ],
   "source": [
    "x = xe[:,:r_x]\n",
    "dx = iqr(x,0)/10000\n",
    "dydx = []\n",
    "for i in range(r_x):\n",
    "    x_tmp = x.copy()\n",
    "    x_tmp[:,i] += dx[i]\n",
    "    y0 = mypred(bind(x,np.zeros((n,1))))\n",
    "    y1 = mypred(bind(x_tmp,np.zeros((n,1))))\n",
    "    y0 /= y0.max(1).reshape(-1,1)\n",
    "    y1 /= y1.max(1).reshape(-1,1)\n",
    "    dy = y1-y0\n",
    "    dydx += [(dy/dx[i]).mean(0)]\n",
    "dydx = np.array(dydx)\n",
    "#dydx /= np.sqrt(((dydx)**2).mean())\n",
    "dydx"
   ]
  },
  {
   "cell_type": "code",
   "execution_count": 40,
   "metadata": {},
   "outputs": [
    {
     "data": {
      "text/plain": [
       "0.7743"
      ]
     },
     "execution_count": 40,
     "metadata": {},
     "output_type": "execute_result"
    }
   ],
   "source": [
    "mlp = MLPClassifier(hidden_layer_sizes=r_ez,max_iter=10000,alpha=1)\n",
    "model = mlp.fit(x,y)\n",
    "accur = (y==model.predict(x)).astype(int).sum()/n\n",
    "accur"
   ]
  },
  {
   "cell_type": "code",
   "execution_count": 41,
   "metadata": {},
   "outputs": [
    {
     "data": {
      "text/plain": [
       "array([[ 0.13550244, -0.16126367,  0.02576122],\n",
       "       [-0.03379881, -0.02654145,  0.06034026],\n",
       "       [-0.05664603,  0.04980463,  0.00684139]])"
      ]
     },
     "execution_count": 41,
     "metadata": {},
     "output_type": "execute_result"
    }
   ],
   "source": [
    "x = xe[:,:r_x]\n",
    "dx = iqr(x,0)/10000\n",
    "edydx = []\n",
    "for i in range(r_x):\n",
    "    x_tmp = x.copy()\n",
    "    x_tmp[:,i] += dx[i]\n",
    "    y0 = model.predict_proba(x)\n",
    "    y1 = model.predict_proba(x_tmp)\n",
    "    #y0 /= y0.sum(1).reshape(-1,1)\n",
    "    #y1 /= y1.sum(1).reshape(-1,1)\n",
    "    dy = y1-y0\n",
    "    edydx += [(dy/dx[i]).mean(0)]\n",
    "edydx = np.array(edydx)\n",
    "edydx"
   ]
  },
  {
   "cell_type": "code",
   "execution_count": 42,
   "metadata": {
    "scrolled": true
   },
   "outputs": [
    {
     "data": {
      "text/plain": [
       "0.09500467482362275"
      ]
     },
     "execution_count": 42,
     "metadata": {},
     "output_type": "execute_result"
    }
   ],
   "source": [
    "((edydx-dydx)**2/(dydx)**2).mean()"
   ]
  },
  {
   "cell_type": "code",
   "execution_count": null,
   "metadata": {},
   "outputs": [
    {
     "name": "stdout",
     "output_type": "stream",
     "text": [
      "0\n",
      "1\n",
      "2\n",
      "3\n",
      "4\n",
      "5\n",
      "6\n",
      "7\n",
      "8\n",
      "9\n",
      "10\n",
      "11\n",
      "12\n",
      "13\n",
      "14\n",
      "15\n",
      "16\n",
      "17\n",
      "18\n",
      "19\n",
      "20\n",
      "21\n",
      "22\n",
      "23\n",
      "24\n",
      "25\n",
      "26\n",
      "27\n",
      "28\n",
      "29\n",
      "30\n",
      "31\n",
      "32\n",
      "33\n",
      "34\n",
      "35\n",
      "36\n",
      "37\n",
      "38\n",
      "39\n",
      "40\n",
      "41\n",
      "42\n",
      "43\n",
      "44\n",
      "45\n",
      "46\n",
      "47\n",
      "48\n",
      "49\n",
      "50\n",
      "51\n",
      "52\n",
      "53\n",
      "54\n"
     ]
    },
    {
     "name": "stderr",
     "output_type": "stream",
     "text": [
      "/opt/conda/lib/python3.7/site-packages/sklearn/neural_network/multilayer_perceptron.py:568: UserWarning: Training interrupted by user.\n",
      "  warnings.warn(\"Training interrupted by user.\")\n"
     ]
    },
    {
     "name": "stdout",
     "output_type": "stream",
     "text": [
      "55\n"
     ]
    },
    {
     "name": "stderr",
     "output_type": "stream",
     "text": [
      "/opt/conda/lib/python3.7/site-packages/sklearn/neural_network/multilayer_perceptron.py:568: UserWarning: Training interrupted by user.\n",
      "  warnings.warn(\"Training interrupted by user.\")\n",
      "/opt/conda/lib/python3.7/site-packages/sklearn/neural_network/multilayer_perceptron.py:568: UserWarning: Training interrupted by user.\n",
      "  warnings.warn(\"Training interrupted by user.\")\n"
     ]
    },
    {
     "name": "stdout",
     "output_type": "stream",
     "text": [
      "56\n",
      "57\n",
      "58\n"
     ]
    },
    {
     "name": "stderr",
     "output_type": "stream",
     "text": [
      "/opt/conda/lib/python3.7/site-packages/sklearn/neural_network/multilayer_perceptron.py:568: UserWarning: Training interrupted by user.\n",
      "  warnings.warn(\"Training interrupted by user.\")\n"
     ]
    },
    {
     "name": "stdout",
     "output_type": "stream",
     "text": [
      "59\n"
     ]
    },
    {
     "name": "stderr",
     "output_type": "stream",
     "text": [
      "/opt/conda/lib/python3.7/site-packages/sklearn/neural_network/multilayer_perceptron.py:568: UserWarning: Training interrupted by user.\n",
      "  warnings.warn(\"Training interrupted by user.\")\n"
     ]
    },
    {
     "name": "stdout",
     "output_type": "stream",
     "text": [
      "60\n"
     ]
    },
    {
     "name": "stderr",
     "output_type": "stream",
     "text": [
      "/opt/conda/lib/python3.7/site-packages/sklearn/neural_network/multilayer_perceptron.py:568: UserWarning: Training interrupted by user.\n",
      "  warnings.warn(\"Training interrupted by user.\")\n",
      "/opt/conda/lib/python3.7/site-packages/sklearn/neural_network/multilayer_perceptron.py:568: UserWarning: Training interrupted by user.\n",
      "  warnings.warn(\"Training interrupted by user.\")\n"
     ]
    },
    {
     "name": "stdout",
     "output_type": "stream",
     "text": [
      "61\n",
      "62\n",
      "63\n"
     ]
    },
    {
     "name": "stderr",
     "output_type": "stream",
     "text": [
      "/opt/conda/lib/python3.7/site-packages/sklearn/neural_network/multilayer_perceptron.py:568: UserWarning: Training interrupted by user.\n",
      "  warnings.warn(\"Training interrupted by user.\")\n"
     ]
    },
    {
     "name": "stdout",
     "output_type": "stream",
     "text": [
      "64\n",
      "65\n"
     ]
    }
   ],
   "source": [
    "sedydxs = []\n",
    "nsim = 1000\n",
    "for i in range(nsim):\n",
    "    print(i)\n",
    "    samp = np.random.randint(n,size=(n,))\n",
    "    submodel = mlp.fit(x[samp,:],y[samp])\n",
    "    sedydx = []\n",
    "    for i in range(r_x):\n",
    "        x_tmp = x[samp,:].copy()\n",
    "        x_tmp[:,i] += dx[i]\n",
    "        y0 = submodel.predict_proba(x[samp,:])\n",
    "        y1 = submodel.predict_proba(x_tmp)\n",
    "        y0 /= y0.sum(1).reshape(-1,1)\n",
    "        y1 /= y1.sum(1).reshape(-1,1)\n",
    "        dy = y1-y0\n",
    "        sedydx += [(dy/dx[i]).mean(0)]\n",
    "    sedydx = np.array(sedydx)\n",
    "    sedydxs += [sedydx]"
   ]
  },
  {
   "cell_type": "code",
   "execution_count": 10,
   "metadata": {},
   "outputs": [
    {
     "name": "stdout",
     "output_type": "stream",
     "text": [
      "[[ 0.0818888  -0.10014801  0.00426798]\n",
      " [ 0.11868388  0.0234094  -0.15514002]\n",
      " [ 0.07072995  0.03011083 -0.11177185]]\n",
      "[[ 0.09016281 -0.08970921  0.01431783]\n",
      " [ 0.12877022  0.03058297 -0.14520126]\n",
      " [ 0.07845098  0.03741305 -0.10322625]]\n"
     ]
    }
   ],
   "source": [
    "sedydxs = np.array(sedydxs)\n",
    "lower = np.zeros(dydx.shape)\n",
    "upper = np.zeros(dydx.shape)\n",
    "from itertools import product\n",
    "for i,j in product(range(dydx.shape[0]),range(dydx.shape[1])):\n",
    "    tmparray = sedydxs[:,i,j].copy()\n",
    "    tmparray = np.sort(tmparray)\n",
    "    lower[i,j] = tmparray[int(5*nsim/100)]\n",
    "    upper[i,j] = tmparray[int(95*nsim/100)]\n",
    "print(lower)\n",
    "print(upper)"
   ]
  },
  {
   "cell_type": "code",
   "execution_count": 11,
   "metadata": {},
   "outputs": [
    {
     "data": {
      "text/plain": [
       "array([[ 0.06081579, -0.14428851,  0.0172218 ],\n",
       "       [ 0.14331452,  0.04042013, -0.0973202 ],\n",
       "       [ 0.07447887,  0.05772818, -0.05119661]])"
      ]
     },
     "execution_count": 11,
     "metadata": {},
     "output_type": "execute_result"
    }
   ],
   "source": [
    "dydx"
   ]
  }
 ],
 "metadata": {
  "kernelspec": {
   "display_name": "Python 3",
   "language": "python",
   "name": "python3"
  },
  "language_info": {
   "codemirror_mode": {
    "name": "ipython",
    "version": 3
   },
   "file_extension": ".py",
   "mimetype": "text/x-python",
   "name": "python",
   "nbconvert_exporter": "python",
   "pygments_lexer": "ipython3",
   "version": "3.6.8"
  }
 },
 "nbformat": 4,
 "nbformat_minor": 2
}
