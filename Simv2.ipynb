{
 "cells": [
  {
   "cell_type": "code",
   "execution_count": 1,
   "metadata": {},
   "outputs": [],
   "source": [
    "import pandas as pd\n",
    "import numpy as np"
   ]
  },
  {
   "cell_type": "markdown",
   "metadata": {},
   "source": [
    "### Data Generation"
   ]
  },
  {
   "cell_type": "code",
   "execution_count": 56,
   "metadata": {},
   "outputs": [
    {
     "data": {
      "text/plain": [
       "array([[1.05242701, 0.56487886, 1.65159761, 1.38722276],\n",
       "       [1.08249559, 1.2486377 , 0.82674842, 0.22218047],\n",
       "       [0.33767685, 1.02206802, 0.41815972, 1.45092724],\n",
       "       ...,\n",
       "       [0.54303989, 0.73866937, 0.5984478 , 0.48865259],\n",
       "       [0.22397381, 0.05517678, 0.64143581, 0.83684979],\n",
       "       [0.80334713, 0.37701818, 0.33775284, 1.03187653]])"
      ]
     },
     "execution_count": 56,
     "metadata": {},
     "output_type": "execute_result"
    }
   ],
   "source": [
    "number_features = 4\n",
    "n = 10000\n",
    "X = abs(np.random.normal(size=(n,number_features)))\n",
    "X"
   ]
  },
  {
   "cell_type": "code",
   "execution_count": 57,
   "metadata": {},
   "outputs": [
    {
     "data": {
      "text/plain": [
       "array([[-0.11222168],\n",
       "       [ 1.4664313 ],\n",
       "       [-1.28459021],\n",
       "       ...,\n",
       "       [ 0.09032175],\n",
       "       [ 0.37434044],\n",
       "       [-0.28159104]])"
      ]
     },
     "execution_count": 57,
     "metadata": {},
     "output_type": "execute_result"
    }
   ],
   "source": [
    "error = np.random.normal(size=(n,1))\n",
    "error"
   ]
  },
  {
   "cell_type": "code",
   "execution_count": 58,
   "metadata": {},
   "outputs": [],
   "source": [
    "X = bind(X,error)"
   ]
  },
  {
   "cell_type": "code",
   "execution_count": 59,
   "metadata": {},
   "outputs": [
    {
     "data": {
      "text/html": [
       "<div>\n",
       "<style scoped>\n",
       "    .dataframe tbody tr th:only-of-type {\n",
       "        vertical-align: middle;\n",
       "    }\n",
       "\n",
       "    .dataframe tbody tr th {\n",
       "        vertical-align: top;\n",
       "    }\n",
       "\n",
       "    .dataframe thead th {\n",
       "        text-align: right;\n",
       "    }\n",
       "</style>\n",
       "<table border=\"1\" class=\"dataframe\">\n",
       "  <thead>\n",
       "    <tr style=\"text-align: right;\">\n",
       "      <th></th>\n",
       "      <th>c1</th>\n",
       "      <th>c2</th>\n",
       "      <th>c3</th>\n",
       "      <th>c4</th>\n",
       "      <th>e</th>\n",
       "    </tr>\n",
       "  </thead>\n",
       "  <tbody>\n",
       "    <tr>\n",
       "      <th>0</th>\n",
       "      <td>1.052427</td>\n",
       "      <td>0.564879</td>\n",
       "      <td>1.651598</td>\n",
       "      <td>1.387223</td>\n",
       "      <td>-0.112222</td>\n",
       "    </tr>\n",
       "    <tr>\n",
       "      <th>1</th>\n",
       "      <td>1.082496</td>\n",
       "      <td>1.248638</td>\n",
       "      <td>0.826748</td>\n",
       "      <td>0.222180</td>\n",
       "      <td>1.466431</td>\n",
       "    </tr>\n",
       "    <tr>\n",
       "      <th>2</th>\n",
       "      <td>0.337677</td>\n",
       "      <td>1.022068</td>\n",
       "      <td>0.418160</td>\n",
       "      <td>1.450927</td>\n",
       "      <td>-1.284590</td>\n",
       "    </tr>\n",
       "    <tr>\n",
       "      <th>3</th>\n",
       "      <td>0.045775</td>\n",
       "      <td>0.533462</td>\n",
       "      <td>1.064031</td>\n",
       "      <td>0.367691</td>\n",
       "      <td>1.347193</td>\n",
       "    </tr>\n",
       "    <tr>\n",
       "      <th>4</th>\n",
       "      <td>1.444814</td>\n",
       "      <td>0.320772</td>\n",
       "      <td>1.565044</td>\n",
       "      <td>0.736091</td>\n",
       "      <td>-0.570377</td>\n",
       "    </tr>\n",
       "    <tr>\n",
       "      <th>...</th>\n",
       "      <td>...</td>\n",
       "      <td>...</td>\n",
       "      <td>...</td>\n",
       "      <td>...</td>\n",
       "      <td>...</td>\n",
       "    </tr>\n",
       "    <tr>\n",
       "      <th>9995</th>\n",
       "      <td>1.177048</td>\n",
       "      <td>0.062102</td>\n",
       "      <td>1.068642</td>\n",
       "      <td>0.702704</td>\n",
       "      <td>-0.716896</td>\n",
       "    </tr>\n",
       "    <tr>\n",
       "      <th>9996</th>\n",
       "      <td>0.227898</td>\n",
       "      <td>0.132480</td>\n",
       "      <td>1.654430</td>\n",
       "      <td>0.451204</td>\n",
       "      <td>1.444268</td>\n",
       "    </tr>\n",
       "    <tr>\n",
       "      <th>9997</th>\n",
       "      <td>0.543040</td>\n",
       "      <td>0.738669</td>\n",
       "      <td>0.598448</td>\n",
       "      <td>0.488653</td>\n",
       "      <td>0.090322</td>\n",
       "    </tr>\n",
       "    <tr>\n",
       "      <th>9998</th>\n",
       "      <td>0.223974</td>\n",
       "      <td>0.055177</td>\n",
       "      <td>0.641436</td>\n",
       "      <td>0.836850</td>\n",
       "      <td>0.374340</td>\n",
       "    </tr>\n",
       "    <tr>\n",
       "      <th>9999</th>\n",
       "      <td>0.803347</td>\n",
       "      <td>0.377018</td>\n",
       "      <td>0.337753</td>\n",
       "      <td>1.031877</td>\n",
       "      <td>-0.281591</td>\n",
       "    </tr>\n",
       "  </tbody>\n",
       "</table>\n",
       "<p>10000 rows × 5 columns</p>\n",
       "</div>"
      ],
      "text/plain": [
       "            c1        c2        c3        c4         e\n",
       "0     1.052427  0.564879  1.651598  1.387223 -0.112222\n",
       "1     1.082496  1.248638  0.826748  0.222180  1.466431\n",
       "2     0.337677  1.022068  0.418160  1.450927 -1.284590\n",
       "3     0.045775  0.533462  1.064031  0.367691  1.347193\n",
       "4     1.444814  0.320772  1.565044  0.736091 -0.570377\n",
       "...        ...       ...       ...       ...       ...\n",
       "9995  1.177048  0.062102  1.068642  0.702704 -0.716896\n",
       "9996  0.227898  0.132480  1.654430  0.451204  1.444268\n",
       "9997  0.543040  0.738669  0.598448  0.488653  0.090322\n",
       "9998  0.223974  0.055177  0.641436  0.836850  0.374340\n",
       "9999  0.803347  0.377018  0.337753  1.031877 -0.281591\n",
       "\n",
       "[10000 rows x 5 columns]"
      ]
     },
     "execution_count": 59,
     "metadata": {},
     "output_type": "execute_result"
    }
   ],
   "source": [
    "X = pd.DataFrame(X,columns=['c1','c2','c3','c4','e'])\n",
    "X"
   ]
  },
  {
   "cell_type": "markdown",
   "metadata": {},
   "source": [
    "### Funtions"
   ]
  },
  {
   "cell_type": "code",
   "execution_count": 37,
   "metadata": {},
   "outputs": [],
   "source": [
    "bind = lambda *x: np.hstack(x)"
   ]
  },
  {
   "cell_type": "markdown",
   "metadata": {},
   "source": [
    "### Target"
   ]
  },
  {
   "cell_type": "code",
   "execution_count": 64,
   "metadata": {},
   "outputs": [],
   "source": [
    "X['target'] = 2*X.c1-2*X.c2-X.c3+X.c4-X.e"
   ]
  },
  {
   "cell_type": "code",
   "execution_count": 65,
   "metadata": {},
   "outputs": [],
   "source": [
    "X.target = [0 if X.target[i]<0 else 1 for i in range(len(X))]"
   ]
  },
  {
   "cell_type": "code",
   "execution_count": 66,
   "metadata": {},
   "outputs": [
    {
     "data": {
      "text/plain": [
       "0.5028"
      ]
     },
     "execution_count": 66,
     "metadata": {},
     "output_type": "execute_result"
    }
   ],
   "source": [
    "np.array(X.target==1).sum()/n"
   ]
  },
  {
   "cell_type": "code",
   "execution_count": 67,
   "metadata": {},
   "outputs": [
    {
     "data": {
      "text/plain": [
       "0.4972"
      ]
     },
     "execution_count": 67,
     "metadata": {},
     "output_type": "execute_result"
    }
   ],
   "source": [
    "np.array(X.target==0).sum()/n"
   ]
  },
  {
   "cell_type": "code",
   "execution_count": 68,
   "metadata": {},
   "outputs": [
    {
     "data": {
      "text/html": [
       "<div>\n",
       "<style scoped>\n",
       "    .dataframe tbody tr th:only-of-type {\n",
       "        vertical-align: middle;\n",
       "    }\n",
       "\n",
       "    .dataframe tbody tr th {\n",
       "        vertical-align: top;\n",
       "    }\n",
       "\n",
       "    .dataframe thead th {\n",
       "        text-align: right;\n",
       "    }\n",
       "</style>\n",
       "<table border=\"1\" class=\"dataframe\">\n",
       "  <thead>\n",
       "    <tr style=\"text-align: right;\">\n",
       "      <th></th>\n",
       "      <th>c1</th>\n",
       "      <th>c2</th>\n",
       "      <th>c3</th>\n",
       "      <th>c4</th>\n",
       "      <th>e</th>\n",
       "      <th>target</th>\n",
       "    </tr>\n",
       "  </thead>\n",
       "  <tbody>\n",
       "    <tr>\n",
       "      <th>0</th>\n",
       "      <td>1.052427</td>\n",
       "      <td>0.564879</td>\n",
       "      <td>1.651598</td>\n",
       "      <td>1.387223</td>\n",
       "      <td>-0.112222</td>\n",
       "      <td>1</td>\n",
       "    </tr>\n",
       "    <tr>\n",
       "      <th>1</th>\n",
       "      <td>1.082496</td>\n",
       "      <td>1.248638</td>\n",
       "      <td>0.826748</td>\n",
       "      <td>0.222180</td>\n",
       "      <td>1.466431</td>\n",
       "      <td>0</td>\n",
       "    </tr>\n",
       "    <tr>\n",
       "      <th>2</th>\n",
       "      <td>0.337677</td>\n",
       "      <td>1.022068</td>\n",
       "      <td>0.418160</td>\n",
       "      <td>1.450927</td>\n",
       "      <td>-1.284590</td>\n",
       "      <td>1</td>\n",
       "    </tr>\n",
       "    <tr>\n",
       "      <th>3</th>\n",
       "      <td>0.045775</td>\n",
       "      <td>0.533462</td>\n",
       "      <td>1.064031</td>\n",
       "      <td>0.367691</td>\n",
       "      <td>1.347193</td>\n",
       "      <td>0</td>\n",
       "    </tr>\n",
       "    <tr>\n",
       "      <th>4</th>\n",
       "      <td>1.444814</td>\n",
       "      <td>0.320772</td>\n",
       "      <td>1.565044</td>\n",
       "      <td>0.736091</td>\n",
       "      <td>-0.570377</td>\n",
       "      <td>1</td>\n",
       "    </tr>\n",
       "    <tr>\n",
       "      <th>...</th>\n",
       "      <td>...</td>\n",
       "      <td>...</td>\n",
       "      <td>...</td>\n",
       "      <td>...</td>\n",
       "      <td>...</td>\n",
       "      <td>...</td>\n",
       "    </tr>\n",
       "    <tr>\n",
       "      <th>9995</th>\n",
       "      <td>1.177048</td>\n",
       "      <td>0.062102</td>\n",
       "      <td>1.068642</td>\n",
       "      <td>0.702704</td>\n",
       "      <td>-0.716896</td>\n",
       "      <td>1</td>\n",
       "    </tr>\n",
       "    <tr>\n",
       "      <th>9996</th>\n",
       "      <td>0.227898</td>\n",
       "      <td>0.132480</td>\n",
       "      <td>1.654430</td>\n",
       "      <td>0.451204</td>\n",
       "      <td>1.444268</td>\n",
       "      <td>0</td>\n",
       "    </tr>\n",
       "    <tr>\n",
       "      <th>9997</th>\n",
       "      <td>0.543040</td>\n",
       "      <td>0.738669</td>\n",
       "      <td>0.598448</td>\n",
       "      <td>0.488653</td>\n",
       "      <td>0.090322</td>\n",
       "      <td>0</td>\n",
       "    </tr>\n",
       "    <tr>\n",
       "      <th>9998</th>\n",
       "      <td>0.223974</td>\n",
       "      <td>0.055177</td>\n",
       "      <td>0.641436</td>\n",
       "      <td>0.836850</td>\n",
       "      <td>0.374340</td>\n",
       "      <td>1</td>\n",
       "    </tr>\n",
       "    <tr>\n",
       "      <th>9999</th>\n",
       "      <td>0.803347</td>\n",
       "      <td>0.377018</td>\n",
       "      <td>0.337753</td>\n",
       "      <td>1.031877</td>\n",
       "      <td>-0.281591</td>\n",
       "      <td>1</td>\n",
       "    </tr>\n",
       "  </tbody>\n",
       "</table>\n",
       "<p>10000 rows × 6 columns</p>\n",
       "</div>"
      ],
      "text/plain": [
       "            c1        c2        c3        c4         e  target\n",
       "0     1.052427  0.564879  1.651598  1.387223 -0.112222       1\n",
       "1     1.082496  1.248638  0.826748  0.222180  1.466431       0\n",
       "2     0.337677  1.022068  0.418160  1.450927 -1.284590       1\n",
       "3     0.045775  0.533462  1.064031  0.367691  1.347193       0\n",
       "4     1.444814  0.320772  1.565044  0.736091 -0.570377       1\n",
       "...        ...       ...       ...       ...       ...     ...\n",
       "9995  1.177048  0.062102  1.068642  0.702704 -0.716896       1\n",
       "9996  0.227898  0.132480  1.654430  0.451204  1.444268       0\n",
       "9997  0.543040  0.738669  0.598448  0.488653  0.090322       0\n",
       "9998  0.223974  0.055177  0.641436  0.836850  0.374340       1\n",
       "9999  0.803347  0.377018  0.337753  1.031877 -0.281591       1\n",
       "\n",
       "[10000 rows x 6 columns]"
      ]
     },
     "execution_count": 68,
     "metadata": {},
     "output_type": "execute_result"
    }
   ],
   "source": [
    "X"
   ]
  },
  {
   "cell_type": "code",
   "execution_count": null,
   "metadata": {},
   "outputs": [],
   "source": [
    "from tensorflow.layers import "
   ]
  }
 ],
 "metadata": {
  "kernelspec": {
   "display_name": "Python 3",
   "language": "python",
   "name": "python3"
  },
  "language_info": {
   "codemirror_mode": {
    "name": "ipython",
    "version": 3
   },
   "file_extension": ".py",
   "mimetype": "text/x-python",
   "name": "python",
   "nbconvert_exporter": "python",
   "pygments_lexer": "ipython3",
   "version": "3.6.8"
  }
 },
 "nbformat": 4,
 "nbformat_minor": 4
}
