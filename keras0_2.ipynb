{
 "cells": [
  {
   "cell_type": "code",
   "execution_count": 2,
   "metadata": {},
   "outputs": [
    {
     "ename": "ModuleNotFoundError",
     "evalue": "No module named 'tensorflow'",
     "output_type": "error",
     "traceback": [
      "\u001b[0;31m---------------------------------------------------------------------------\u001b[0m",
      "\u001b[0;31mModuleNotFoundError\u001b[0m                       Traceback (most recent call last)",
      "\u001b[0;32m<ipython-input-2-4514f8609069>\u001b[0m in \u001b[0;36m<module>\u001b[0;34m\u001b[0m\n\u001b[1;32m      1\u001b[0m \u001b[0;32mimport\u001b[0m \u001b[0mnumpy\u001b[0m \u001b[0;32mas\u001b[0m \u001b[0mnp\u001b[0m\u001b[0;34m\u001b[0m\u001b[0;34m\u001b[0m\u001b[0m\n\u001b[0;32m----> 2\u001b[0;31m \u001b[0;32mimport\u001b[0m \u001b[0mtensorflow\u001b[0m \u001b[0;32mas\u001b[0m \u001b[0mtf\u001b[0m\u001b[0;34m\u001b[0m\u001b[0;34m\u001b[0m\u001b[0m\n\u001b[0m\u001b[1;32m      3\u001b[0m \u001b[0;32mfrom\u001b[0m \u001b[0mtensorflow\u001b[0m \u001b[0;32mimport\u001b[0m \u001b[0mkeras\u001b[0m\u001b[0;34m\u001b[0m\u001b[0;34m\u001b[0m\u001b[0m\n\u001b[1;32m      4\u001b[0m \u001b[0;32mfrom\u001b[0m \u001b[0mscipy\u001b[0m\u001b[0;34m.\u001b[0m\u001b[0mstats\u001b[0m \u001b[0;32mimport\u001b[0m \u001b[0miqr\u001b[0m\u001b[0;34m\u001b[0m\u001b[0;34m\u001b[0m\u001b[0m\n\u001b[1;32m      5\u001b[0m \u001b[0;32mfrom\u001b[0m \u001b[0mscipy\u001b[0m\u001b[0;34m.\u001b[0m\u001b[0mstats\u001b[0m \u001b[0;32mimport\u001b[0m \u001b[0mzscore\u001b[0m\u001b[0;34m\u001b[0m\u001b[0;34m\u001b[0m\u001b[0m\n",
      "\u001b[0;31mModuleNotFoundError\u001b[0m: No module named 'tensorflow'"
     ]
    }
   ],
   "source": [
    "import numpy as np\n",
    "import tensorflow as tf\n",
    "from tensorflow import keras\n",
    "from scipy.stats import iqr\n",
    "from scipy.stats import zscore\n",
    "\n",
    "print(tf.__version__)"
   ]
  },
  {
   "cell_type": "code",
   "execution_count": 1,
   "metadata": {},
   "outputs": [],
   "source": [
    "def build_model(r_in,r_out,layer_setter):\n",
    "    init = keras.initializers.RandomUniform(minval=-0.5, maxval=0.5, seed=None)\n",
    "    model = [keras.layers.Input(shape=r_in)]\n",
    "    if layer_setter>=3: model += [keras.layers.Dense(20,activation='relu',kernel_initializer=init)]\n",
    "    if layer_setter>=2: model += [keras.layers.Dense(10,activation='relu',kernel_initializer=init)]\n",
    "    if layer_setter>=1: model += [keras.layers.Dense(5,activation='relu',kernel_initializer=init)]\n",
    "    model += [keras.layers.Dense(r_out,activation='softmax')]\n",
    "    model = keras.Sequential(model)\n",
    "    model.compile(loss=tf.keras.losses.SparseCategoricalCrossentropy(),\n",
    "                  optimizer=tf.keras.optimizers.RMSprop(0.001),\n",
    "                  metrics=[tf.keras.metrics.SparseCategoricalAccuracy()])\n",
    "    return model\n",
    "def generate_mvt_normal(n,r,means):\n",
    "    if r == 1: return np.random.normal(loc=means,size=(n,1))\n",
    "    P = np.array([[1,1]])\n",
    "    for i in range(2,r):\n",
    "        ones = np.ones([i,1])\n",
    "        zeros = np.zeros([P.shape[0],1])\n",
    "        ident = np.eye(i)\n",
    "        upper = np.hstack([ones,ident])\n",
    "        lower = np.hstack([zeros,P])\n",
    "        P = np.vstack([upper,lower])\n",
    "    covariates = np.random.normal(size=(n,P.shape[0]))\n",
    "    idiosyncratics = np.random.normal(loc=means,size=(n,P.shape[1]))\n",
    "    covariate_loadings = np.random.uniform(size=P.shape[0])*3-1\n",
    "    return covariates@np.diagflat(covariate_loadings)@P+idiosyncratics"
   ]
  },
  {
   "cell_type": "code",
   "execution_count": 45,
   "metadata": {},
   "outputs": [],
   "source": [
    "# Simulation 1\n",
    "\n",
    "nsim = 1000\n",
    "r_x = 3\n",
    "r_e = 1\n",
    "outp = []\n",
    "for n,zs,zes,r_y in product([500,1000,2500,5000],[1,2,3],[1,2,3],[2,3,5]):\n",
    "    if zs == 1: r_z = (5,)\n",
    "    if zs == 2: r_z = (10,5)\n",
    "    if zs == 3: r_z = (20,10,5)\n",
    "    if zes == 1: r_z_model = (5,)\n",
    "    if zes == 2: r_z_model = (10,5)\n",
    "    if zes == 3: r_z_model = (20,10,5)\n",
    "    print(n,zs,zes,r_y)\n",
    "    mlp = MLPClassifier(hidden_layer_sizes=r_z_model,max_iter=1000,alpha=1)\n",
    "    for isim in range(nsim):\n",
    "        if isim%100==0: print(str(int(isim/nsim*100))+'%...')\n",
    "        while True:\n",
    "            count += 1\n",
    "            x = zscore(generate_mvt_normal(n,r_x,np.random.uniform(size=r_x)))\n",
    "            e = zscore(generate_mvt_normal(n,r_e,np.zeros(r_e)))\n",
    "            xe = np.hstack([x,e])\n",
    "            layers,weights = generate_layers(xe,r_z,relu)\n",
    "            final_layer,final_weights = generate_layers(layers[-1],(r_y,),softmax)\n",
    "            final_layer,final_weights = final_layer[0],final_weights[0]\n",
    "            y = final_layer.argmax(1)\n",
    "            if np.unique(y,return_counts=True)[0].shape[0]==r_y and np.unique(y,return_counts=True)[1].min()>=0.05 and not np.any(np.isnan(final_layer)): break\n",
    "        model = mlp.fit(x,y)\n",
    "        accur = (y==model.predict(x)).astype(int).sum()/n\n",
    "        jac = jacobian(xe,predict)[:-r_e,:]\n",
    "        e_jac = jacobian(x,model.predict_proba)\n",
    "        mse = ((e_jac-jac)**2).mean()\n",
    "        tv = (jac**2).mean()\n",
    "        outp += [(n,r_y,r_x,r_e,zs,zes,accur,mse,tv)]\n",
    "    outp = pd.DataFrame(np.array(outp),columns=('n','r_y','r_x','r_e','zs','zes','accur','mse','tv'))\n",
    "    outp.to_csv('saves/sim1_results_{0}_{1}_{2}_{3}.csv'.format(n,zs,zes,r_y))\n",
    "    outp = []\n",
    "subprocess.Popen(['/opt/conda/bin/python3.7','selfmail.py','irene']).wait()"
   ]
  },
  {
   "cell_type": "code",
   "execution_count": 6,
   "metadata": {},
   "outputs": [],
   "source": []
  },
  {
   "cell_type": "code",
   "execution_count": 1,
   "metadata": {},
   "outputs": [
    {
     "ename": "NameError",
     "evalue": "name 'zscore' is not defined",
     "output_type": "error",
     "traceback": [
      "\u001b[0;31m---------------------------------------------------------------------------\u001b[0m",
      "\u001b[0;31mNameError\u001b[0m                                 Traceback (most recent call last)",
      "\u001b[0;32m<ipython-input-1-61989e55e9e9>\u001b[0m in \u001b[0;36m<module>\u001b[0;34m\u001b[0m\n\u001b[1;32m      6\u001b[0m \u001b[0mzs\u001b[0m \u001b[0;34m=\u001b[0m \u001b[0;36m1\u001b[0m\u001b[0;34m\u001b[0m\u001b[0;34m\u001b[0m\u001b[0m\n\u001b[1;32m      7\u001b[0m \u001b[0;34m\u001b[0m\u001b[0m\n\u001b[0;32m----> 8\u001b[0;31m \u001b[0mx\u001b[0m \u001b[0;34m=\u001b[0m \u001b[0mzscore\u001b[0m\u001b[0;34m(\u001b[0m\u001b[0mgenerate_mvt_normal\u001b[0m\u001b[0;34m(\u001b[0m\u001b[0mn\u001b[0m\u001b[0;34m,\u001b[0m\u001b[0mr_x\u001b[0m\u001b[0;34m,\u001b[0m\u001b[0mnp\u001b[0m\u001b[0;34m.\u001b[0m\u001b[0mrandom\u001b[0m\u001b[0;34m.\u001b[0m\u001b[0muniform\u001b[0m\u001b[0;34m(\u001b[0m\u001b[0msize\u001b[0m\u001b[0;34m=\u001b[0m\u001b[0mr_x\u001b[0m\u001b[0;34m)\u001b[0m\u001b[0;34m)\u001b[0m\u001b[0;34m)\u001b[0m\u001b[0;34m\u001b[0m\u001b[0;34m\u001b[0m\u001b[0m\n\u001b[0m\u001b[1;32m      9\u001b[0m \u001b[0me\u001b[0m \u001b[0;34m=\u001b[0m \u001b[0mzscore\u001b[0m\u001b[0;34m(\u001b[0m\u001b[0mgenerate_mvt_normal\u001b[0m\u001b[0;34m(\u001b[0m\u001b[0mn\u001b[0m\u001b[0;34m,\u001b[0m\u001b[0mr_e\u001b[0m\u001b[0;34m,\u001b[0m\u001b[0mnp\u001b[0m\u001b[0;34m.\u001b[0m\u001b[0mzeros\u001b[0m\u001b[0;34m(\u001b[0m\u001b[0mr_e\u001b[0m\u001b[0;34m)\u001b[0m\u001b[0;34m)\u001b[0m\u001b[0;34m)\u001b[0m\u001b[0;34m\u001b[0m\u001b[0;34m\u001b[0m\u001b[0m\n\u001b[1;32m     10\u001b[0m \u001b[0mxe\u001b[0m \u001b[0;34m=\u001b[0m \u001b[0mnp\u001b[0m\u001b[0;34m.\u001b[0m\u001b[0mhstack\u001b[0m\u001b[0;34m(\u001b[0m\u001b[0;34m[\u001b[0m\u001b[0mx\u001b[0m\u001b[0;34m,\u001b[0m\u001b[0me\u001b[0m\u001b[0;34m]\u001b[0m\u001b[0;34m)\u001b[0m\u001b[0;34m\u001b[0m\u001b[0;34m\u001b[0m\u001b[0m\n",
      "\u001b[0;31mNameError\u001b[0m: name 'zscore' is not defined"
     ]
    }
   ],
   "source": [
    "\n",
    "n = 1000\n",
    "r_e = 1\n",
    "r_x = 3\n",
    "r_y = 3\n",
    "zes = 1\n",
    "zs = 1\n",
    "\n",
    "x = zscore(generate_mvt_normal(n,r_x,np.random.uniform(size=r_x)))\n",
    "e = zscore(generate_mvt_normal(n,r_e,np.zeros(r_e)))\n",
    "xe = np.hstack([x,e])\n",
    "while True:\n",
    "    actual_model = build_model(r_x+r_e,r_y,zs)\n",
    "    y = actual_model.predict(xe).argmax(1)\n",
    "    if np.unique(y,return_counts=True)[0].shape[0]==r_y and np.unique(y,return_counts=True)[1].min()>=0.05 and not np.any(np.isnan(final_layer)): break\n",
    "np.unique(y,return_counts=True)"
   ]
  },
  {
   "cell_type": "code",
   "execution_count": 61,
   "metadata": {},
   "outputs": [],
   "source": []
  },
  {
   "cell_type": "code",
   "execution_count": 85,
   "metadata": {},
   "outputs": [
    {
     "data": {
      "text/plain": [
       "0.858"
      ]
     },
     "execution_count": 85,
     "metadata": {},
     "output_type": "execute_result"
    }
   ],
   "source": [
    "estimated_model = build_model(r_x)\n",
    "history = model.fit(x,y,epochs=100,validation_split=0.2,verbose=0)\n",
    "(model.predict(x).argmax(1)==y).mean()"
   ]
  },
  {
   "cell_type": "code",
   "execution_count": 71,
   "metadata": {},
   "outputs": [],
   "source": []
  },
  {
   "cell_type": "code",
   "execution_count": 72,
   "metadata": {},
   "outputs": [
    {
     "data": {
      "text/plain": [
       "0.927"
      ]
     },
     "execution_count": 72,
     "metadata": {},
     "output_type": "execute_result"
    }
   ],
   "source": []
  }
 ],
 "metadata": {
  "kernelspec": {
   "display_name": "Python 3",
   "language": "python",
   "name": "python3"
  },
  "language_info": {
   "codemirror_mode": {
    "name": "ipython",
    "version": 3
   },
   "file_extension": ".py",
   "mimetype": "text/x-python",
   "name": "python",
   "nbconvert_exporter": "python",
   "pygments_lexer": "ipython3",
   "version": "3.7.4"
  }
 },
 "nbformat": 4,
 "nbformat_minor": 2
}
